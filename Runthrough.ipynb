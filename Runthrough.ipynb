{
 "cells": [
  {
   "cell_type": "markdown",
   "metadata": {},
   "source": [
    "### 1. Get all the necessary packages\n",
    "\n",
    "Use environment.yml or  \n",
    "\n",
    "```bash\n",
    "python==3.9  \n",
    "cobra==0.29.0  \n",
    "keras==2.15.0  \n",
    "networkx==2.8.8  \n",
    "node2vec==0.4.6  \n",
    "numpy==1.26.2  \n",
    "pandas==2.1.3  \n",
    "scikit-learn==1.5.0  \n",
    "torch==2.2.0  \n",
    "torch_geometric==2.4.0  \n",
    "```\n",
    "\n",
    "Note:  \n",
    "There will be an error message ('' is not a valid SBML 'SId'.) everytime we use this GEM model as the GEM model has some null spaces  \n",
    "This will not affect the performace of the tool"
   ]
  },
  {
   "cell_type": "markdown",
   "metadata": {},
   "source": [
    "### 2. Flux sampling\n",
    "\n",
    "in AsperGAT directory:  \n",
    "```bash\n",
    "cd sampling  \n",
    "python3 flux_sampling.py #flux sampling of the GEM of Aspergillus niger CBS 513.88\n",
    "```"
   ]
  },
  {
   "cell_type": "markdown",
   "metadata": {},
   "source": [
    "### 1. Get all the necessary packages\n",
    "\n",
    "```bash\n",
    "python==3.9  \n",
    "cobra==0.29.0  \n",
    "keras==2.15.0  \n",
    "networkx==2.8.8  \n",
    "node2vec==0.4.6  \n",
    "numpy==1.26.2  \n",
    "pandas==2.1.3  \n",
    "scikit-learn==1.5.0  \n",
    "torch==2.2.0  \n",
    "torch_geometric==2.4.0  \n",
    "```"
   ]
  },
  {
   "cell_type": "code",
   "execution_count": null,
   "metadata": {},
   "outputs": [
    {
     "name": "stderr",
     "output_type": "stream",
     "text": [
      "'' is not a valid SBML 'SId'.\n"
     ]
    },
    {
     "name": "stdout",
     "output_type": "stream",
     "text": [
      "Flux sampling completed and saved to ../data/flux_sampling.pkl\n"
     ]
    }
   ],
   "source": [
    "%%bash\n",
    "cd sampling  \n",
    "python3 flux_sampling.py  "
   ]
  },
  {
   "cell_type": "markdown",
   "metadata": {},
   "source": [
    "### 3. Essential gene dataset creation\n",
    "\n",
    "```bash\n",
    "cd essentialgene\n",
    "python3 check_genename.py #check the gene ids that are used in the GEM\n",
    "python3 generate_essential_genes.py #generate a csv of gene essentiality data from experimental and FBA-based\n",
    "```"
   ]
  },
  {
   "cell_type": "code",
   "execution_count": 3,
   "metadata": {},
   "outputs": [
    {
     "name": "stderr",
     "output_type": "stream",
     "text": [
      "'' is not a valid SBML 'SId'.\n"
     ]
    },
    {
     "name": "stdout",
     "output_type": "stream",
     "text": [
      "Available genes in model: ['An11g10890', 'An02g14380', 'An06g00380', 'An12g08610', 'An16g05420', 'An04g03750', 'An18g01670', 'An04g05300', 'An02g07470', 'An14g04920', 'An02g02920', 'An16g01830', 'An08g02260', 'An16g02990', 'An16g06010', 'An12g08020', 'An18g06250', 'An07g08990', 'An04g02090', 'An15g02820', 'An11g02550', 'An02g12140', 'An01g05150', 'An11g02040', 'An11g06120', 'An09g03450', 'An02g02930', 'An11g00470', 'An08g06570', 'An07g03850', 'An07g03160', 'An02g06430', 'An09g06680', 'An08g10920', 'An08g10530', 'An02g11040', 'An09g03870', 'An16g05760', 'An08g05580', 'An18g06760', 'An04g04750', 'An11g11280', 'An07g06840', 'An17g01670', 'An14g00310', 'An02g07600', 'An02g12770', 'An12g07850', 'An15g00070', 'An07g02160', 'An11g07190', 'An12g00160', 'An01g09270', 'An15g01860', 'An05g00930', 'An11g00530', 'An11g00510', 'An01g08610', 'An10g00820', 'An15g03980', 'An03g01140', 'An17g01530', 'An03g01350', 'An13g03330', 'An12g09810', 'An01g12170', 'An01g14590', 'An02g02060', 'An02g02870', 'An03g01360', 'An04g02690', 'An08g09750', 'An09g03140', 'An11g04150', 'An12g09950', 'An13g00950', 'An13g03320', 'An14g07180', 'An16g00010', 'An16g00400', 'An16g06240', 'An10g00230', 'An15g00410', 'An02g00080', 'An01g00100', 'An07g09530', 'An11g04550', 'An07g02180', 'An02g11910', 'An02g06820', 'An09g01030', 'An01g01590', 'An02g06420', 'An01g09770', 'An08g09300', 'An11g02860', 'An02g05670', 'An14g06340', 'An14g06350', 'An04g07220', 'An08g07290', 'An04g03400', 'An08g10820', 'An10g00850', 'An15g05890', 'An18g04130', 'An15g01920', 'An15g01780', 'An08g10870', 'An12g07630', 'An08g08840', 'An02g06860', 'An15g04770', 'An17g00910', 'An15g01740', 'An09g05310', 'An07g07520', 'An16g03880', 'An01g14530', 'An12g10140', 'An16g05350', 'An03g03130', 'An04g01120', 'An02g12420', 'An02g02950', 'An04g02490', 'An04g09750', 'An02g03270', 'An16g07400', 'An01g11650', 'An09g05860', 'An11g06930', 'An09g01130', 'An18g01140', 'An11g09950', 'An18g01970', 'An02g13550', 'An02g13510', 'An02g11230', 'An15g01980', 'An15g01990', 'An15g02000', 'An04g05620', 'An16g07110', 'An05g00390', 'An15g02200', 'An18g05480', 'An04g04890', 'An08g00210', 'An14g06500', 'An15g07390', 'An01g06110', 'An08g02530', 'An14g01000', 'An01g03030', 'An01g03040', 'An04g02670', 'An01g14880', 'An16g01720', 'An01g10920', 'An08g01930', 'An01g03740', 'An12g00030', 'An05g02260', 'An08g09380', 'An15g04610', 'An07g03140', 'An15g07500', 'An02g07650', 'An11g04290', 'An13g02310', 'An18g00010', 'An14g00160', 'An01g14740', 'An12g03440', 'An07g00450', 'An12g01570', 'An18g04040', 'An14g02650', 'An08g09850', 'An09g00310', 'An12g10630', 'An14g01550', 'An16g01730', 'An18g04140', 'An01g07300', 'An16g04160', 'An02g03590', 'An14g03820', 'An12g00820', 'An15g06760', 'An17g00210', 'An12g07740', 'An16g06620', 'An05g02030', 'An04g02760', 'An08g06350', 'An04g03200', 'An02g05830', 'An16g03800', 'An08g09340', 'An03g02430', 'An07g06780', 'An18g06500', 'An11g02380', 'An04g04990', 'An15g00200', 'An07g02110', 'An15g00210', 'An09g03900', 'An16g01700', 'An03g05190', 'An14g03510', 'An07g01290', 'An07g08710', 'An08g10510', 'An14g02180', 'An11g10990', 'An01g01540', 'An13g03710', 'An01g04880', 'An07g00350', 'An09g05880', 'An02g13240', 'An04g06920', 'An01g10350', 'An06g00290', 'An01g12150', 'An07g04420', 'An14g05820', 'An09g00270', 'An09g00260', 'An02g11150', 'An06g00170', 'An01g01320', 'An11g06330', 'An14g01800', 'An08g11070', 'An06g02420', 'An06g02040', 'An07g09760', 'An08g08240', 'An11g06090', 'An15g01890', 'An17g00520', 'An03g03740', 'An02g04110', 'An11g00430', 'An07g06280', 'An04g04150', 'An02g10000', 'An09g03500', 'An02g13270', 'An01g08690', 'An01g15110', 'An04g08410', 'An08g06250', 'An09g03470', 'An12g04510', 'An04g04330', 'An08g06100', 'An12g02430', 'An14g05630', 'An17g00200', 'An04g04700', 'An15g02990', 'An06g01960', 'An08g08940', 'An01g07510', 'An01g12090', 'An06g01970', 'An08g10150', 'An12g01260', 'An16g06210', 'An01g02740', 'An08g08140', 'An01g11560', 'An01g14800', 'An02g00350', 'An03g05300', 'An08g09800', 'An09g00890', 'An10g00910', 'An11g01220', 'An11g03590', 'An13g03810', 'An17g00830', 'An04g07210', 'An04g07200', 'An16g04630', 'An07g02050', 'An02g05560', 'An04g01280', 'An07g01900', 'An04g07370', 'An07g06800', 'An01g07130', 'An02g01050', 'An03g00530', 'An03g01540', 'An03g02130', 'An03g05310', 'An03g06690', 'An07g00550', 'An07g05650', 'An09g00590', 'An09g04390', 'An11g02480', 'An11g03060', 'An11g03150', 'An11g05130', 'An09g01550', 'An17g00010', 'An02g05590', 'An01g12310', 'An03g05490', 'An07g09360', 'An02g12800', 'An11g10310', 'An18g01020', 'An01g14730', 'An08g06800', 'An03g06020', 'An13g01940', 'An07g07290', 'An01g00200', 'An06g01370', 'An02g03320', 'An04g05720', 'An08g05400', 'An13g00590', 'An17g02120', 'An14g04190', 'An01g06120', 'An02g03260', 'An04g09890', 'An09g03070', 'An12g02450', 'An15g07810', 'An03g05940', 'An12g07840', 'An18g05160', 'An18g05170', 'An12g00480', 'An03g06360', 'An07g05570', 'An08g05290', 'An09g02290', 'An09g04010', 'An12g10380', 'An14g00660', 'An14g07420', 'An12g05330', 'An01g05360', 'An02g07020', 'An01g05160', 'An02g13580', 'An04g04670', 'An08g09030', 'An09g06400', 'An11g01160', 'An12g02920', 'An15g00840', 'An19g00100', 'An01g01920', 'An03g02960', 'An09g02240', 'An11g00920', 'An18g04560', 'An12g04480', 'An04g07110', 'An02g13530', 'An02g05470', 'An02g05880', 'An02g09730', 'An02g11200', 'An04g00060', 'An04g00110', 'An04g05640', 'An06g01390', 'An07g04180', 'An08g04240', 'An08g04910', 'An08g10690', 'An09g06850', 'An11g06200', 'An11g08840', 'An11g09350', 'An11g09390', 'An12g04780', 'An12g07520', 'An14g00060', 'An02g12010', 'An11g04810', 'An04g06960', 'An05g00510', 'An08g07840', 'An01g12210', 'An01g06180', 'An04g05220', 'An08g06550', 'An14g04080', 'An09g03990', 'An02g01720', 'An02g09930', 'An04g01550', 'An07g07390', 'An08g01550', 'An11g10200', 'An14g04170', 'An07g06560', 'An01g04630', 'An01g04930', 'An01g10880', 'An02g04520', 'An12g00640', 'An12g04950', 'An14g04180', 'An16g07290', 'An16g07410', 'An12g08760', 'An01g05670', 'An02g09480', 'An02g06350', 'An02g09470', 'An08g03090', 'An12g04500', 'An17g02310', 'An19g00350', 'An04g02840', 'An04g08560', 'An11g03500', 'An12g06530', 'An14g02250', 'An02g10670', 'An02g10710', 'An12g06290', 'An18g04220', 'An08g10000', 'An11g08510', 'An16g03910', 'An01g01820', 'An03g05660', 'An01g01550', 'An03g00050', 'An03g01120', 'An04g05130', 'An09g02390', 'An12g07870', 'An16g05570', 'An01g07910', 'An04g01340', 'An12g07660', 'An11g02620', 'An04g06380', 'An08g10800', 'An01g14960', 'An18g03190', 'An12g01280', 'An15g02340', 'An01g06560', 'An04g04130', 'An11g08870', 'An09g06050', 'An16g07500', 'An01g12500', 'An02g00190', 'An02g00340', 'An03g05880', 'An07g00100', 'An07g03960', 'An09g01020', 'An09g04990', 'An11g02980', 'An11g08900', 'An12g01020', 'An14g00670', 'An15g00290', 'An02g07250', 'An14g01190', 'An03g02930', 'An12g07580', 'An15g02360', 'An03g04330', 'An09g02800', 'An12g09880', 'An02g10750', 'An14g00960', 'An15g05170', 'An16g07520', 'An09g05940', 'An02g14590', 'An04g00990', 'An14g01460', 'An15g01850', 'An02g06720', 'An11g07960', 'An01g08800', 'An01g08820', 'An07g09920', 'An02g02290', 'An11g06140', 'An11g01390', 'An17g02330', 'An02g00890', 'An02g00880', 'An11g09770', 'An05g00410', 'An16g02970', 'An07g00680', 'An07g00670', 'An05g02000', 'An17g02090', 'An16g02520', 'An14g01150', 'An08g03070', 'An17g02280', 'An11g09510', 'An02g07430', 'An09g03830', 'An04g02220', 'An04g02580', 'An02g09240', 'An04g05860', 'An07g02210', 'An13g01080', 'An01g12570', 'An17g01640', 'An02g14890', 'An15g00610', 'An01g11930', 'An14g00840', 'An14g07210', 'An01g09250', 'An03g00480', 'An16g01310', 'An16g04170', 'An09g03940', 'An07g09870', 'An11g09270', 'An15g06700', 'An18g02550', 'An12g02890', 'An02g06150', 'An04g00430', 'An09g01990', 'An01g13160', 'An09g00170', 'An04g10130', 'An01g14130', 'An04g06210', 'An15g00350', 'An04g05420', 'An11g04250', 'An12g10090', 'An11g05500', 'An01g13590', 'An04g05260', 'An02g07500', 'An02g07490', 'An15g07110', 'An17g00630', 'An09g06710', 'An05g00160', 'An04g04720', 'An16g08720', 'An14g00930', 'An04g01750', 'An02g10660', 'An08g02700', 'An08g07220', 'An08g01960', 'An01g06150', 'An08g06810', 'An03g03710', 'An04g08100', 'An14g06010', 'An17g02200', 'An02g06120', 'An08g06080', 'An01g07260', 'An02g02170', 'An12g03230', 'An16g02500', 'An07g05000', 'An07g05050', 'An01g01520', 'An04g02800', 'An05g00120', 'An01g01530', 'An11g06160', 'An08g01270', 'An01g13620', 'An09g03030', 'An02g02750', 'An03g03660', 'An15g01760', 'An15g00570', 'An02g02700', 'An02g02710', 'An02g09960', 'An01g08090', 'An11g10150', 'An02g04020', 'An04g02060', 'An01g13920', 'An01g04710', 'An07g10100', 'An04g01080', 'An14g06870', 'An09g05870', 'An07g08170', 'An02g14520', 'An01g07070', 'An08g00290', 'An08g08080', 'An08g03980', 'An12g04800', 'An16g02890', 'An11g06110', 'An03g01530', 'An11g01070', 'An14g01140', 'An02g06030', 'An03g02330', 'An02g08520', 'An16g08100', 'An16g04960', 'An16g04970', 'An17g00820', 'An08g07420', 'An01g10650', 'An02g02910', 'An04g08330', 'An12g03570', 'An13g00440', 'An03g01310', 'An14g00570', 'An09g05840', 'An11g09320', 'An11g09310', 'An12g09660', 'An12g09670', 'An15g06580', 'An17g02370', 'An01g05040', 'An12g02850', 'An18g04340', 'An03g06870', 'An01g04260', 'An14g00280', 'An12g00320', 'An17g01330', 'An11g01520', 'An01g04450', 'An01g13010', 'An11g10910', 'An07g08360', 'An12g00760', 'An11g06610', 'An09g05660', 'An03g05090', 'An14g06430', 'An09g05670', 'An12g04020', 'An04g00040', 'An12g01990', 'An02g14220', 'An14g01760', 'An03g02840', 'An01g12400', 'An03g02850', 'An05g02050', 'An06g02000', 'An11g00760', 'An12g02320', 'An12g05100', 'An13g01130', 'An14g01270', 'An14g06740', 'An18g00290', 'An08g10930', 'An09g02010', 'An12g01980', 'An07g03290', 'An16g05340', 'An04g02300', 'An01g14000', 'An06g02610', 'An16g07090', 'An07g01960', 'An12g09940', 'An07g06770', 'An16g06350', 'An18g03800', 'An09g06740', 'An16g09190', 'An08g04990', 'An18g01590', 'An04g03290', 'An13g03940', 'An17g01150', 'An17g01170', 'An14g00990', 'An02g02820', 'An02g07320', 'An12g03260', 'An13g01920', 'An18g01960', 'An16g06470', 'An13g00040', 'An07g09570', 'An17g01120', 'An04g10280', 'An03g02830', 'An01g14110', 'An09g04710', 'An12g00910', 'An14g01880', 'An15g06310', 'An08g00560', 'An15g01020', 'An08g12250', 'An12g06690', 'An02g04040', 'An04g03360', 'An08g08490', 'An10g00530', 'An03g03700', 'An01g14140', 'An07g04820', 'An16g04720', 'An08g04100', 'An18g03820', 'An01g06830', 'An01g10030', 'An11g00990', 'An04g08370', 'An07g03380', 'An05g02310', 'An09g00100', 'An15g00630', 'An01g09810', 'An02g06320', 'An07g04260', 'An04g00610', 'An07g08280', 'An09g03240', 'An13g04000', 'An04g02190', 'An14g04010', 'An04g01540', 'An08g07570', 'An11g02500', 'An16g01670', 'An04g04640', 'An02g11000', 'An03g03770', 'An07g06150', 'An09g01330', 'An11g02230', 'An01g07000', 'An03g06410', 'An15g03090', 'An04g04210', 'An14g01590', 'An01g03350', 'An15g00150', 'An16g02930', 'An01g02810', 'An11g03230', 'An14g05780', 'An18g04660', 'An15g03770', 'An12g03600', 'An03g06630', 'An06g00350', 'An07g00440', 'An07g04200', 'An09g02180', 'An09g02270', 'An09g03760', 'An09g05120', 'An12g06560', 'An13g00480', 'An14g00860', 'An16g08870', 'An10g00140', 'An10g00120', 'An10g00110', 'An10g00170', 'An10g00180', 'An16g02750', 'An10g00130', 'An10g00150', 'An10g00160', 'An10g00190', 'An11g06670', 'An11g09790', 'An08g02990', 'An11g09780', 'An08g08950', 'An11g06820', 'An08g05610', 'An08g05640', 'An01g13810', 'An01g03550', 'An15g00940', 'An01g07250', 'An02g11470', 'An13g00280', 'An15g05780', 'An01g02200', 'An01g04380', 'An01g05740', 'An01g11950', 'An01g12710', 'An02g01800', 'An02g05460', 'An02g11440', 'An08g07050', 'An09g04100', 'An11g01770', 'An11g09370', 'An12g00720', 'An12g00780', 'An12g03900', 'An15g00700', 'An15g05790', 'An16g07430', 'An02g02510', 'An02g14830', 'An04g02280', 'An08g02440', 'An11g00720', 'An11g09550', 'An14g06200', 'An14g06560', 'An15g07150', 'An16g03060', 'An07g08810', 'An03g00060', 'An14g01700', 'An18g00400', 'An04g04240', 'An01g03790', 'An09g04810', 'An02g03540', 'An15g04060', 'An16g02000', 'An12g04180', 'An15g07120', 'An11g11230', 'An18g00070', 'An14g06860', 'An13g01840', 'An03g05150', 'An09g03890', 'Unknown5', 'An06g00560', 'An11g05280', 'An11g01100', 'An14g04280', 'An12g07450', 'An08g01720', 'An03g01620', 'An03g02190', 'An02g08660', 'An02g08670', 'An06g00300', 'An17g02140', 'An05g01290', 'An15g03940', 'An15g01500', 'An06g02270', 'An04g08190', 'An16g04770', 'An16g05390', 'An02g07720', 'An01g06970', 'An11g01120', 'An02g07710', 'An16g01710', 'An16g01650', 'An13g00920', 'An08g04810', 'An18g04330', 'An13g00930', 'An13g00940', 'An16g07700', 'An03g03360', 'An04g09530', 'An04g09520', 'An04g09540', 'An14g03400', 'An15g00320', 'An07g02100', 'An01g14550', 'An07g05830', 'An16g00550', 'An18g01740', 'An12g03950', 'An09g05730', 'An14g05350', 'An11g00250', 'An11g00270', 'An11g00280', 'An11g00300', 'An11g00310', 'An11g00320', 'An11g00330', 'An11g00350', 'An13g00400', 'An07g08720', 'An01g09290', 'An11g07310', 'An11g07320', 'An11g07330', 'An11g07340', 'An09g01860', 'An09g01930', 'An09g01800', 'An09g01810', 'An09g01820', 'An09g01830', 'An09g01840', 'An09g01850', 'An09g01880', 'An09g01920', 'An17g01480', 'An08g00010', 'An18g02970', 'An01g08640', 'An08g10680', 'An01g04250', 'An07g10040', 'An11g01580', 'An15g02690', 'An11g09700', 'An07g02200', 'An01g08960', 'An01g08950', 'An16g06720', 'An05g00220', 'An01g03300', 'An03g03520', 'An06g01300', 'An03g03560', 'An03g03540', 'An03g03550', 'An06g01320', 'An03g03530', 'An03g03620', 'An02g14410', 'An08g03200', 'An12g09610', 'An08g05670', 'An12g05010', 'An01g00780', 'An03g00940', 'An03g04840', 'An12g10390', 'An16g01880', 'An01g14940', 'An04g03590', 'An18g01090', 'An02g13220', 'An04g03460', 'An08g11030', 'An18g03570', 'An04g04430', 'An07g04470', 'An10g00950', 'An11g02180', 'An03g06570', 'An06g00430', 'An08g03790', 'An08g03740', 'An08g03780', 'An08g03730', 'An12g01320', 'An01g01560', 'An01g06620', 'An11g03340', 'An03g05450', 'An02g14210', 'An12g03290', 'An03g05440', 'An03g05080', 'An02g14450', 'An05g01320', 'An01g09960', 'An09g03300', 'An12g08280', 'An11g03200', 'An07g08950', 'An16g06990', 'An15g05370', 'An01g14670', 'An05g02440', 'An01g11520', 'An02g04900', 'An03g06310', 'An07g08640', 'An15g02300', 'An12g00950', 'An14g04200', 'An13g02020', 'An07g08390', 'An01g03340', 'An01g04210', 'An15g04600', 'An03g06550', 'An03g04610', 'An16g04910', 'An02g13750', 'An11g06540', 'An15g07920', 'An12g05710', 'An18g06820', 'An14g03280', 'An01g12490', 'An01g13610', 'An01g01870', 'An14g02760', 'An07g09330', 'An01g11660', 'An16g06800', 'An02g09250', 'An18g03550', 'An05g01180', 'An02g11970', 'An07g03770', 'An04g04870', 'An02g03240', 'An01g02080', 'An02g07080', 'An14g03370', 'An08g05160', 'An01g12960', 'An09g02700', 'An13g03150', 'An07g04280', 'An01g08430', 'An08g07890', 'An07g04300', 'An07g04270', 'An02g04680', 'An04g09410', 'An14g06290', 'An01g02340', 'An01g10100', 'An03g06860', 'An08g06560', 'An13g02480', 'An04g02420', 'An08g01800', 'An04g02140', 'An12g07510', 'An16g08210', 'An07g09110', 'An01g12530', 'An15g03200', 'An08g03850', 'An07g02790', 'An11g01630', 'An02g10320', 'An12g04660', 'An09g03020', 'An14g04300', 'An12g01120', 'An02g13350', 'An15g05720', 'An14g01860', 'An07g10010', 'An01g13600', 'An16g09320', 'An17g02340', 'An09g03950', 'An16g08020', 'An09g05970', 'An15g06680', 'An12g02240', 'An17g01977', 'An01g03650', 'An02g01740', 'An07g08140', 'An18g03300', 'An15g00420', 'An06g01830', 'An02g04880', 'An08g06770', 'An12g01480', 'An16g03130', 'An08g00510', 'An03g01280', 'An04g03060', 'An15g06360', 'An04g03110', 'An01g05630', 'An01g08490', 'An14g05260', 'An01g09500', 'An02g14080', 'An07g06000', 'An01g08540', 'An11g10380', 'An04g00170', 'An04g06490', 'An11g09930', 'An11g06590', 'An01g08500', 'An07g05610', 'An07g09240', 'An16g09070', 'An12g03940', 'An03g04280', 'An07g07280', 'An02g11530', 'An02g11660', 'An04g00160', 'An04g03330', 'An09g00030', 'An03g06590', 'An14g03500', 'An04g01320', 'An02g09810', 'An07g00930', 'An17g02287', 'An04g03960', 'An16g01030', 'An01g12610', 'An02g05540', 'An15g03950', 'An15g02490', 'An01g02000', 'An11g02160', 'An16g00180', 'An01g14970', 'An14g06980', 'An18g04080', 'An08g04090', 'An01g03480', 'An04g06680', 'An01g09750', 'An15g05880', 'An05g02190', 'An16g07150', 'An15g07070', 'An03g02280', 'An01g11680', 'An18g04190', 'An01g03000', 'An13g02000', 'An03g03330', 'An01g13630', 'An01g05820', 'An01g04690', 'An04g08800', 'An14g00430', 'An01g09480', 'An04g00130', 'An03g04810', 'An11g09760', 'An11g09630', 'An02g10310', 'An15g00170', 'An08g05790', 'An03g03460', 'An01g05050', 'An02g08110', 'An14g07200', 'An12g10720', 'An08g08920', 'An01g01830', 'An09g03130', 'An14g00690', 'An03g06530', 'An15g05770', 'An01g10010', 'An11g11160', 'An08g10600', 'An06g01730', 'An07g03070', 'An15g00110', 'An12g04710', 'An11g02200', 'An12g08270', 'An08g01780', 'An01g09260', 'An16g04830', 'An11g02170', 'An04g05440', 'An04g03890', 'An01g14680', 'An03g06970', 'An07g01950', 'An13g02390', 'An02g00560', 'An08g06240', 'An12g08950', 'An15g05450', 'An13g02640', 'An04g04370', 'An08g07740', 'An12g00870', 'An04g07230', 'An18g04410', 'An11g06150', 'An08g08910', 'An16g04760', 'An11g04940', 'An09g01380', 'An15g01950', 'An07g09190', 'An02g06130', 'An03g04510', 'An05g01410', 'An02g12430', 'An08g03490', 'An02g03330', 'An09g03730', 'An07g08850', 'An11g09120', 'An17g02020', 'An11g10470', 'An03g02700', 'An07g03170', 'An01g13930', 'An04g01610', 'An15g01710', 'An05g00540', 'An15g06740', 'An11g09570', 'An18g03810', 'An04g08980', 'An01g07430', 'An17g01360', 'An11g09840', 'An02g13850', 'An09g04280', 'An12g00020', 'An01g12420', 'An04g01170', 'An14g04400', 'An11g07300', 'An11g11300', 'An08g00970', 'An17g02240', 'An01g03460', 'An08g06940', 'An11g11310', 'An12g04870', 'An08g06960', 'An01g10720', 'An18g05810', 'An02g07010', 'An11g09500', 'An07g07430', 'An02g03950', 'An01g03160', 'An16g04690', 'An07g02960', 'An05g00750', 'An16g04940', 'An04g02120', 'An08g02470', 'An08g00610', 'An18g05020', 'An04g02260', 'An01g13190', 'An07g07840', 'An14g01010', 'An07g08150', 'An02g08080', 'An01g14080', 'An07g06760', 'An12g04860', 'An15g01690', 'An12g00510', 'An01g04740', 'An01g03580', 'An02g13840', 'An04g01820', 'An02g12120', 'An08g08740', 'An16g04930', 'An15g00080', 'An02g06050', 'An02g05700', 'An04g05850', 'An18g05860', 'An12g01350', 'An08g03430', 'An18g04180', 'An01g04240', 'An01g02900', 'An11g01690', 'An18g03310', 'An09g05180', 'An09g01190', 'An09g01240', 'An08g02310', 'An11g05580', 'An04g06930', 'An03g00960', 'An02g09090', 'An02g00590', 'An01g00850', 'An11g09600', 'An12g05820', 'An07g06300', 'An18g01700', 'An02g07610', 'An07g02060', 'An09g04680', 'An02g02810', 'An03g01750', 'An06g00620', 'An14g02880', 'An05g02010', 'An07g04430', 'An07g06880', 'An07g01260', 'An09g02930', 'An14g02740', 'An14g03990', 'An03g05320', 'An18g05500', 'An01g09220', 'An03g05260', 'An18g06810', 'An09g05950', 'An12g07730', 'An07g08310', 'An02g08720', 'An01g08110', 'An04g08090', 'An04g09030', 'An17g01540', 'An14g01850', 'An02g12160', 'An01g01620', 'An15g07190', 'An12g10320', 'An02g03250', 'An08g01370', 'An12g07900', 'An02g12320', 'An02g08020', 'An18g05570', 'An11g02400', 'An02g10450', 'An04g03940', 'An01g08570', 'An08g00180', 'An15g03260', 'An05g02230', 'An11g06170', 'An01g08010', 'An08g06370', 'An08g10340', 'An01g01960', 'An02g01980', 'An15g06730', 'An18g05130', 'An03g05670', 'An15g03820', 'An14g02080', 'An01g09930', 'An06g01540', 'An11g02540', 'An07g03100']\n"
     ]
    }
   ],
   "source": [
    "%%bash\n",
    "cd essentialgene\n",
    "python3 check_genename.py "
   ]
  },
  {
   "cell_type": "code",
   "execution_count": 4,
   "metadata": {},
   "outputs": [
    {
     "name": "stderr",
     "output_type": "stream",
     "text": [
      "'' is not a valid SBML 'SId'.\n"
     ]
    },
    {
     "name": "stdout",
     "output_type": "stream",
     "text": [
      "Essential genes saved to ../data/gene_essentiality.csv\n"
     ]
    }
   ],
   "source": [
    "%%bash\n",
    "cd essentialgene\n",
    "python3 generate_essential_genes.py "
   ]
  },
  {
   "cell_type": "markdown",
   "metadata": {},
   "source": [
    "### 4. MFG creation\n",
    "\n",
    "```bash\n",
    "cd graph_creation\n",
    "python3 MFG_calc.py #create MFG of the GEM model of A.niger\n",
    "python3 node_features.py #add node features to the graph (product and reactant data)\n",
    "python3 node_labels.py #add node labels to the graph (gene-protein-reaction relationship (GPR))\n",
    "```"
   ]
  },
  {
   "cell_type": "code",
   "execution_count": 5,
   "metadata": {},
   "outputs": [
    {
     "name": "stderr",
     "output_type": "stream",
     "text": [
      "'' is not a valid SBML 'SId'.\n"
     ]
    },
    {
     "name": "stdout",
     "output_type": "stream",
     "text": [
      "Shape of S: (1818, 2320)\n",
      "Shape of r: (2320,)\n",
      "Shape of v: (2320,)\n",
      "Warning: J matrix contains NaNs or Infs. Replacing them.\n"
     ]
    }
   ],
   "source": [
    "%%bash\n",
    "cd graph_creation\n",
    "python3 MFG_calc.py"
   ]
  },
  {
   "cell_type": "code",
   "execution_count": 6,
   "metadata": {},
   "outputs": [
    {
     "name": "stderr",
     "output_type": "stream",
     "text": [
      "'' is not a valid SBML 'SId'.\n"
     ]
    }
   ],
   "source": [
    "%%bash\n",
    "cd graph_creation\n",
    "python3 node_features.py"
   ]
  },
  {
   "cell_type": "code",
   "execution_count": 7,
   "metadata": {},
   "outputs": [
    {
     "name": "stderr",
     "output_type": "stream",
     "text": [
      "'' is not a valid SBML 'SId'.\n"
     ]
    },
    {
     "name": "stdout",
     "output_type": "stream",
     "text": [
      "Error processing GPR for reaction r244 with GPR: An09g03990 and An02g01720 and An02g09930 and An04g01550 and An07g07390 and An08g01550 and An11g10200 and An14g04170\n",
      "Error details: invalid literal for int() with base 10: 'An09g03990'\n",
      "Error processing GPR for reaction r449 with GPR: An17g02287\n",
      "Error details: invalid literal for int() with base 10: 'An17g02287'\n",
      "Error processing GPR for reaction r1325 with GPR: Unknown5\n",
      "Error details: invalid literal for int() with base 10: 'Unknown5'\n",
      "Error processing GPR for reaction r2405 with GPR: An12g02240 or An17g01977\n",
      "Error details: invalid literal for int() with base 10: 'An17g01977'\n",
      "Node labels calculated and saved successfully.\n"
     ]
    }
   ],
   "source": [
    "%%bash\n",
    "cd graph_creation\n",
    "python3 node_labels.py"
   ]
  },
  {
   "cell_type": "markdown",
   "metadata": {},
   "source": [
    "### 5. AsperGAT training\n",
    "\n",
    "```bash\n",
    "cd model\n",
    "python3 compare.py #see the performance of the FBA in predicting gene essentiality\n",
    "python3 AsperGAT.py #train and save the best checkpoint of model\n",
    "```"
   ]
  },
  {
   "cell_type": "code",
   "execution_count": 8,
   "metadata": {},
   "outputs": [
    {
     "name": "stdout",
     "output_type": "stream",
     "text": [
      "Comparison of FBA Essentiality vs Experimental Essentiality:\n",
      "Accuracy: 0.6152\n",
      "F1 Score: 0.6339\n",
      "Precision: 0.7695\n",
      "Recall: 0.5389\n"
     ]
    }
   ],
   "source": [
    "%%bash\n",
    "cd model\n",
    "python3 compare.py"
   ]
  },
  {
   "cell_type": "code",
   "execution_count": 9,
   "metadata": {},
   "outputs": [
    {
     "name": "stdout",
     "output_type": "stream",
     "text": [
      "Repeat 1/5\n",
      "  Fold 1:\n"
     ]
    },
    {
     "name": "stderr",
     "output_type": "stream",
     "text": [
      "/mnt/data/users/minjkim/softwares/conda_envs/flowgat/lib/python3.8/site-packages/torch/utils/checkpoint.py:1399: FutureWarning: `torch.cpu.amp.autocast(args...)` is deprecated. Please use `torch.amp.autocast('cpu', args...)` instead.\n",
      "  with device_autocast_ctx, torch.cpu.amp.autocast(**cpu_autocast_kwargs), recompute_context:  # type: ignore[attr-defined]\n"
     ]
    },
    {
     "name": "stdout",
     "output_type": "stream",
     "text": [
      "Epoch 1: Train Loss: 0.5909, Train Accuracy: 0.5363\n",
      "Epoch 2: Train Loss: 0.5876, Train Accuracy: 0.4808\n",
      "Epoch 3: Train Loss: 0.5786, Train Accuracy: 0.5168\n",
      "Epoch 4: Train Loss: 0.5821, Train Accuracy: 0.4945\n",
      "Epoch 5: Train Loss: 0.5792, Train Accuracy: 0.5102\n",
      "Epoch 6: Train Loss: 0.5842, Train Accuracy: 0.4817\n",
      "Epoch 7: Train Loss: 0.5830, Train Accuracy: 0.4656\n",
      "Epoch 8: Train Loss: 0.5828, Train Accuracy: 0.4737\n",
      "Epoch 9: Train Loss: 0.5814, Train Accuracy: 0.4751\n",
      "Epoch 10: Train Loss: 0.5809, Train Accuracy: 0.4784\n",
      "Epoch 11: Train Loss: 0.5807, Train Accuracy: 0.4869\n",
      "Epoch 12: Train Loss: 0.5791, Train Accuracy: 0.5040\n",
      "Epoch 13: Train Loss: 0.5796, Train Accuracy: 0.4779\n",
      "Epoch 14: Train Loss: 0.5793, Train Accuracy: 0.4732\n",
      "Epoch 15: Train Loss: 0.5790, Train Accuracy: 0.4566\n",
      "Epoch 16: Train Loss: 0.5796, Train Accuracy: 0.4333\n",
      "Epoch 17: Train Loss: 0.5792, Train Accuracy: 0.4419\n",
      "Epoch 18: Train Loss: 0.5789, Train Accuracy: 0.4680\n",
      "Epoch 19: Train Loss: 0.5789, Train Accuracy: 0.4760\n",
      "Epoch 20: Train Loss: 0.5792, Train Accuracy: 0.4737\n",
      "Test Accuracy: 0.5996, Test F1: 0.7497, Test Precision: 0.5996, Test Recall: 1.0000\n",
      "--------------------------------------------------\n",
      "  Fold 2:\n"
     ]
    },
    {
     "name": "stderr",
     "output_type": "stream",
     "text": [
      "/mnt/data/users/minjkim/softwares/conda_envs/flowgat/lib/python3.8/site-packages/torch/utils/checkpoint.py:1399: FutureWarning: `torch.cpu.amp.autocast(args...)` is deprecated. Please use `torch.amp.autocast('cpu', args...)` instead.\n",
      "  with device_autocast_ctx, torch.cpu.amp.autocast(**cpu_autocast_kwargs), recompute_context:  # type: ignore[attr-defined]\n"
     ]
    },
    {
     "name": "stdout",
     "output_type": "stream",
     "text": [
      "Epoch 1: Train Loss: 0.5858, Train Accuracy: 0.5202\n",
      "Epoch 2: Train Loss: 0.5835, Train Accuracy: 0.4770\n",
      "Epoch 3: Train Loss: 0.5825, Train Accuracy: 0.5183\n",
      "Epoch 4: Train Loss: 0.5828, Train Accuracy: 0.5325\n",
      "Epoch 5: Train Loss: 0.5826, Train Accuracy: 0.5135\n",
      "Epoch 6: Train Loss: 0.5800, Train Accuracy: 0.5192\n",
      "Epoch 7: Train Loss: 0.5800, Train Accuracy: 0.4936\n",
      "Epoch 8: Train Loss: 0.5788, Train Accuracy: 0.4903\n",
      "Epoch 9: Train Loss: 0.5788, Train Accuracy: 0.4741\n",
      "Epoch 10: Train Loss: 0.5794, Train Accuracy: 0.4661\n",
      "Epoch 11: Train Loss: 0.5779, Train Accuracy: 0.4846\n",
      "Epoch 12: Train Loss: 0.5777, Train Accuracy: 0.4888\n",
      "Epoch 13: Train Loss: 0.5770, Train Accuracy: 0.5055\n",
      "Epoch 14: Train Loss: 0.5774, Train Accuracy: 0.4960\n",
      "Epoch 15: Train Loss: 0.5767, Train Accuracy: 0.5045\n",
      "Epoch 16: Train Loss: 0.5759, Train Accuracy: 0.5230\n",
      "Epoch 17: Train Loss: 0.5764, Train Accuracy: 0.5287\n",
      "Epoch 18: Train Loss: 0.5754, Train Accuracy: 0.5430\n",
      "Epoch 19: Train Loss: 0.5763, Train Accuracy: 0.5278\n",
      "Epoch 20: Train Loss: 0.5762, Train Accuracy: 0.5368\n",
      "Test Accuracy: 0.4953, Test F1: 0.4593, Test Precision: 0.5765, Test Recall: 0.3818\n",
      "--------------------------------------------------\n",
      "  Fold 3:\n"
     ]
    },
    {
     "name": "stderr",
     "output_type": "stream",
     "text": [
      "/mnt/data/users/minjkim/softwares/conda_envs/flowgat/lib/python3.8/site-packages/torch/utils/checkpoint.py:1399: FutureWarning: `torch.cpu.amp.autocast(args...)` is deprecated. Please use `torch.amp.autocast('cpu', args...)` instead.\n",
      "  with device_autocast_ctx, torch.cpu.amp.autocast(**cpu_autocast_kwargs), recompute_context:  # type: ignore[attr-defined]\n"
     ]
    },
    {
     "name": "stdout",
     "output_type": "stream",
     "text": [
      "Epoch 1: Train Loss: 0.5907, Train Accuracy: 0.4760\n",
      "Epoch 2: Train Loss: 0.5908, Train Accuracy: 0.5026\n",
      "Epoch 3: Train Loss: 0.5917, Train Accuracy: 0.5249\n",
      "Epoch 4: Train Loss: 0.5853, Train Accuracy: 0.5183\n",
      "Epoch 5: Train Loss: 0.5870, Train Accuracy: 0.4566\n",
      "Epoch 6: Train Loss: 0.5851, Train Accuracy: 0.4575\n",
      "Epoch 7: Train Loss: 0.5794, Train Accuracy: 0.4817\n",
      "Epoch 8: Train Loss: 0.5811, Train Accuracy: 0.4888\n",
      "Epoch 9: Train Loss: 0.5825, Train Accuracy: 0.5263\n",
      "Epoch 10: Train Loss: 0.5786, Train Accuracy: 0.5581\n",
      "Epoch 11: Train Loss: 0.5779, Train Accuracy: 0.5415\n",
      "Epoch 12: Train Loss: 0.5797, Train Accuracy: 0.5259\n",
      "Epoch 13: Train Loss: 0.5796, Train Accuracy: 0.4884\n",
      "Epoch 14: Train Loss: 0.5794, Train Accuracy: 0.4737\n",
      "Epoch 15: Train Loss: 0.5774, Train Accuracy: 0.5007\n",
      "Epoch 16: Train Loss: 0.5797, Train Accuracy: 0.4798\n",
      "Epoch 17: Train Loss: 0.5788, Train Accuracy: 0.5259\n",
      "Epoch 18: Train Loss: 0.5795, Train Accuracy: 0.5007\n",
      "Epoch 19: Train Loss: 0.5796, Train Accuracy: 0.5007\n",
      "Epoch 20: Train Loss: 0.5785, Train Accuracy: 0.5045\n",
      "Test Accuracy: 0.4156, Test F1: 0.0000, Test Precision: 1.0000, Test Recall: 0.0000\n",
      "--------------------------------------------------\n",
      "  Fold 4:\n"
     ]
    },
    {
     "name": "stderr",
     "output_type": "stream",
     "text": [
      "/mnt/data/users/minjkim/softwares/conda_envs/flowgat/lib/python3.8/site-packages/torch/utils/checkpoint.py:1399: FutureWarning: `torch.cpu.amp.autocast(args...)` is deprecated. Please use `torch.amp.autocast('cpu', args...)` instead.\n",
      "  with device_autocast_ctx, torch.cpu.amp.autocast(**cpu_autocast_kwargs), recompute_context:  # type: ignore[attr-defined]\n"
     ]
    },
    {
     "name": "stdout",
     "output_type": "stream",
     "text": [
      "Epoch 1: Train Loss: 0.5930, Train Accuracy: 0.4969\n",
      "Epoch 2: Train Loss: 0.5846, Train Accuracy: 0.5273\n",
      "Epoch 3: Train Loss: 0.5834, Train Accuracy: 0.4993\n",
      "Epoch 4: Train Loss: 0.5820, Train Accuracy: 0.4746\n",
      "Epoch 5: Train Loss: 0.5816, Train Accuracy: 0.4846\n",
      "Epoch 6: Train Loss: 0.5805, Train Accuracy: 0.5069\n",
      "Epoch 7: Train Loss: 0.5812, Train Accuracy: 0.4846\n",
      "Epoch 8: Train Loss: 0.5788, Train Accuracy: 0.5036\n",
      "Epoch 9: Train Loss: 0.5784, Train Accuracy: 0.4903\n",
      "Epoch 10: Train Loss: 0.5766, Train Accuracy: 0.5178\n",
      "Epoch 11: Train Loss: 0.5778, Train Accuracy: 0.5074\n",
      "Epoch 12: Train Loss: 0.5793, Train Accuracy: 0.4941\n",
      "Epoch 13: Train Loss: 0.5780, Train Accuracy: 0.4983\n",
      "Epoch 14: Train Loss: 0.5778, Train Accuracy: 0.5197\n",
      "Epoch 15: Train Loss: 0.5783, Train Accuracy: 0.5197\n",
      "Epoch 16: Train Loss: 0.5776, Train Accuracy: 0.5330\n",
      "Epoch 17: Train Loss: 0.5778, Train Accuracy: 0.5515\n",
      "Epoch 18: Train Loss: 0.5773, Train Accuracy: 0.5406\n",
      "Epoch 19: Train Loss: 0.5784, Train Accuracy: 0.5026\n",
      "Epoch 20: Train Loss: 0.5774, Train Accuracy: 0.5178\n",
      "Test Accuracy: 0.5332, Test F1: 0.6273, Test Precision: 0.5931, Test Recall: 0.6656\n",
      "--------------------------------------------------\n",
      "  Fold 5:\n"
     ]
    },
    {
     "name": "stderr",
     "output_type": "stream",
     "text": [
      "/mnt/data/users/minjkim/softwares/conda_envs/flowgat/lib/python3.8/site-packages/torch/utils/checkpoint.py:1399: FutureWarning: `torch.cpu.amp.autocast(args...)` is deprecated. Please use `torch.amp.autocast('cpu', args...)` instead.\n",
      "  with device_autocast_ctx, torch.cpu.amp.autocast(**cpu_autocast_kwargs), recompute_context:  # type: ignore[attr-defined]\n"
     ]
    },
    {
     "name": "stdout",
     "output_type": "stream",
     "text": [
      "Epoch 1: Train Loss: 0.5917, Train Accuracy: 0.4535\n",
      "Epoch 2: Train Loss: 0.5898, Train Accuracy: 0.5104\n",
      "Epoch 3: Train Loss: 0.5895, Train Accuracy: 0.5342\n",
      "Epoch 4: Train Loss: 0.5857, Train Accuracy: 0.5275\n",
      "Epoch 5: Train Loss: 0.5824, Train Accuracy: 0.5157\n",
      "Epoch 6: Train Loss: 0.5794, Train Accuracy: 0.5066\n",
      "Epoch 7: Train Loss: 0.5827, Train Accuracy: 0.4649\n",
      "Epoch 8: Train Loss: 0.5820, Train Accuracy: 0.4692\n",
      "Epoch 9: Train Loss: 0.5785, Train Accuracy: 0.5085\n",
      "Epoch 10: Train Loss: 0.5773, Train Accuracy: 0.5370\n",
      "Epoch 11: Train Loss: 0.5789, Train Accuracy: 0.5232\n",
      "Epoch 12: Train Loss: 0.5761, Train Accuracy: 0.5356\n",
      "Epoch 13: Train Loss: 0.5785, Train Accuracy: 0.5014\n",
      "Epoch 14: Train Loss: 0.5782, Train Accuracy: 0.4829\n",
      "Epoch 15: Train Loss: 0.5806, Train Accuracy: 0.4606\n",
      "Epoch 16: Train Loss: 0.5793, Train Accuracy: 0.4896\n",
      "Epoch 17: Train Loss: 0.5784, Train Accuracy: 0.4938\n",
      "Epoch 18: Train Loss: 0.5792, Train Accuracy: 0.5005\n",
      "Epoch 19: Train Loss: 0.5780, Train Accuracy: 0.5289\n",
      "Epoch 20: Train Loss: 0.5773, Train Accuracy: 0.5275\n",
      "Test Accuracy: 0.5798, Test F1: 0.7341, Test Precision: 0.5798, Test Recall: 1.0000\n",
      "--------------------------------------------------\n",
      "Average Test Accuracy: 0.5247, Average Test F1: 0.5141\n",
      "Repeat 2/5\n",
      "  Fold 1:\n"
     ]
    },
    {
     "name": "stderr",
     "output_type": "stream",
     "text": [
      "/mnt/data/users/minjkim/softwares/conda_envs/flowgat/lib/python3.8/site-packages/torch/utils/checkpoint.py:1399: FutureWarning: `torch.cpu.amp.autocast(args...)` is deprecated. Please use `torch.amp.autocast('cpu', args...)` instead.\n",
      "  with device_autocast_ctx, torch.cpu.amp.autocast(**cpu_autocast_kwargs), recompute_context:  # type: ignore[attr-defined]\n"
     ]
    },
    {
     "name": "stdout",
     "output_type": "stream",
     "text": [
      "Epoch 1: Train Loss: 0.5855, Train Accuracy: 0.4646\n",
      "Epoch 2: Train Loss: 0.5818, Train Accuracy: 0.5083\n",
      "Epoch 3: Train Loss: 0.5828, Train Accuracy: 0.5059\n",
      "Epoch 4: Train Loss: 0.5825, Train Accuracy: 0.4884\n",
      "Epoch 5: Train Loss: 0.5787, Train Accuracy: 0.4998\n",
      "Epoch 6: Train Loss: 0.5778, Train Accuracy: 0.5131\n",
      "Epoch 7: Train Loss: 0.5790, Train Accuracy: 0.5045\n",
      "Epoch 8: Train Loss: 0.5811, Train Accuracy: 0.5045\n",
      "Epoch 9: Train Loss: 0.5780, Train Accuracy: 0.5126\n",
      "Epoch 10: Train Loss: 0.5784, Train Accuracy: 0.5055\n",
      "Epoch 11: Train Loss: 0.5792, Train Accuracy: 0.5031\n",
      "Epoch 12: Train Loss: 0.5782, Train Accuracy: 0.4888\n",
      "Epoch 13: Train Loss: 0.5788, Train Accuracy: 0.5050\n",
      "Epoch 14: Train Loss: 0.5790, Train Accuracy: 0.5126\n",
      "Epoch 15: Train Loss: 0.5786, Train Accuracy: 0.5202\n",
      "Epoch 16: Train Loss: 0.5792, Train Accuracy: 0.4912\n",
      "Epoch 17: Train Loss: 0.5787, Train Accuracy: 0.4722\n",
      "Epoch 18: Train Loss: 0.5782, Train Accuracy: 0.4746\n",
      "Epoch 19: Train Loss: 0.5780, Train Accuracy: 0.4751\n",
      "Epoch 20: Train Loss: 0.5783, Train Accuracy: 0.4457\n",
      "Test Accuracy: 0.4156, Test F1: 0.0000, Test Precision: 1.0000, Test Recall: 0.0000\n",
      "--------------------------------------------------\n",
      "  Fold 2:\n"
     ]
    },
    {
     "name": "stderr",
     "output_type": "stream",
     "text": [
      "/mnt/data/users/minjkim/softwares/conda_envs/flowgat/lib/python3.8/site-packages/torch/utils/checkpoint.py:1399: FutureWarning: `torch.cpu.amp.autocast(args...)` is deprecated. Please use `torch.amp.autocast('cpu', args...)` instead.\n",
      "  with device_autocast_ctx, torch.cpu.amp.autocast(**cpu_autocast_kwargs), recompute_context:  # type: ignore[attr-defined]\n"
     ]
    },
    {
     "name": "stdout",
     "output_type": "stream",
     "text": [
      "Epoch 1: Train Loss: 0.6003, Train Accuracy: 0.4490\n",
      "Epoch 2: Train Loss: 0.5957, Train Accuracy: 0.4689\n",
      "Epoch 3: Train Loss: 0.5850, Train Accuracy: 0.5301\n",
      "Epoch 4: Train Loss: 0.5833, Train Accuracy: 0.5230\n",
      "Epoch 5: Train Loss: 0.5799, Train Accuracy: 0.5097\n",
      "Epoch 6: Train Loss: 0.5843, Train Accuracy: 0.4803\n",
      "Epoch 7: Train Loss: 0.5838, Train Accuracy: 0.4585\n",
      "Epoch 8: Train Loss: 0.5821, Train Accuracy: 0.4627\n",
      "Epoch 9: Train Loss: 0.5797, Train Accuracy: 0.5012\n",
      "Epoch 10: Train Loss: 0.5785, Train Accuracy: 0.5064\n",
      "Epoch 11: Train Loss: 0.5832, Train Accuracy: 0.5012\n",
      "Epoch 12: Train Loss: 0.5799, Train Accuracy: 0.5273\n",
      "Epoch 13: Train Loss: 0.5800, Train Accuracy: 0.5078\n",
      "Epoch 14: Train Loss: 0.5795, Train Accuracy: 0.4855\n",
      "Epoch 15: Train Loss: 0.5786, Train Accuracy: 0.4760\n",
      "Epoch 16: Train Loss: 0.5791, Train Accuracy: 0.4646\n",
      "Epoch 17: Train Loss: 0.5784, Train Accuracy: 0.4722\n",
      "Epoch 18: Train Loss: 0.5783, Train Accuracy: 0.4604\n",
      "Epoch 19: Train Loss: 0.5787, Train Accuracy: 0.4794\n",
      "Epoch 20: Train Loss: 0.5791, Train Accuracy: 0.5007\n",
      "Test Accuracy: 0.5806, Test F1: 0.6802, Test Precision: 0.6267, Test Recall: 0.7437\n",
      "--------------------------------------------------\n",
      "  Fold 3:\n"
     ]
    },
    {
     "name": "stderr",
     "output_type": "stream",
     "text": [
      "/mnt/data/users/minjkim/softwares/conda_envs/flowgat/lib/python3.8/site-packages/torch/utils/checkpoint.py:1399: FutureWarning: `torch.cpu.amp.autocast(args...)` is deprecated. Please use `torch.amp.autocast('cpu', args...)` instead.\n",
      "  with device_autocast_ctx, torch.cpu.amp.autocast(**cpu_autocast_kwargs), recompute_context:  # type: ignore[attr-defined]\n"
     ]
    },
    {
     "name": "stdout",
     "output_type": "stream",
     "text": [
      "Epoch 1: Train Loss: 0.5911, Train Accuracy: 0.4613\n",
      "Epoch 2: Train Loss: 0.5927, Train Accuracy: 0.4865\n",
      "Epoch 3: Train Loss: 0.5907, Train Accuracy: 0.5377\n",
      "Epoch 4: Train Loss: 0.5865, Train Accuracy: 0.5501\n",
      "Epoch 5: Train Loss: 0.5834, Train Accuracy: 0.5173\n",
      "Epoch 6: Train Loss: 0.5837, Train Accuracy: 0.4988\n",
      "Epoch 7: Train Loss: 0.5838, Train Accuracy: 0.4803\n",
      "Epoch 8: Train Loss: 0.5809, Train Accuracy: 0.4898\n",
      "Epoch 9: Train Loss: 0.5864, Train Accuracy: 0.4684\n",
      "Epoch 10: Train Loss: 0.5841, Train Accuracy: 0.4884\n",
      "Epoch 11: Train Loss: 0.5806, Train Accuracy: 0.5059\n",
      "Epoch 12: Train Loss: 0.5791, Train Accuracy: 0.5131\n",
      "Epoch 13: Train Loss: 0.5772, Train Accuracy: 0.5278\n",
      "Epoch 14: Train Loss: 0.5770, Train Accuracy: 0.5164\n",
      "Epoch 15: Train Loss: 0.5792, Train Accuracy: 0.4789\n",
      "Epoch 16: Train Loss: 0.5807, Train Accuracy: 0.4514\n",
      "Epoch 17: Train Loss: 0.5792, Train Accuracy: 0.4903\n",
      "Epoch 18: Train Loss: 0.5798, Train Accuracy: 0.4922\n",
      "Epoch 19: Train Loss: 0.5790, Train Accuracy: 0.5206\n",
      "Epoch 20: Train Loss: 0.5780, Train Accuracy: 0.5240\n",
      "Test Accuracy: 0.5901, Test F1: 0.7422, Test Precision: 0.5901, Test Recall: 1.0000\n",
      "--------------------------------------------------\n",
      "  Fold 4:\n"
     ]
    },
    {
     "name": "stderr",
     "output_type": "stream",
     "text": [
      "/mnt/data/users/minjkim/softwares/conda_envs/flowgat/lib/python3.8/site-packages/torch/utils/checkpoint.py:1399: FutureWarning: `torch.cpu.amp.autocast(args...)` is deprecated. Please use `torch.amp.autocast('cpu', args...)` instead.\n",
      "  with device_autocast_ctx, torch.cpu.amp.autocast(**cpu_autocast_kwargs), recompute_context:  # type: ignore[attr-defined]\n"
     ]
    },
    {
     "name": "stdout",
     "output_type": "stream",
     "text": [
      "Epoch 1: Train Loss: 0.5881, Train Accuracy: 0.5413\n",
      "Epoch 2: Train Loss: 0.5807, Train Accuracy: 0.5152\n",
      "Epoch 3: Train Loss: 0.5817, Train Accuracy: 0.4625\n",
      "Epoch 4: Train Loss: 0.5810, Train Accuracy: 0.4535\n",
      "Epoch 5: Train Loss: 0.5770, Train Accuracy: 0.4891\n",
      "Epoch 6: Train Loss: 0.5797, Train Accuracy: 0.5009\n",
      "Epoch 7: Train Loss: 0.5788, Train Accuracy: 0.5313\n",
      "Epoch 8: Train Loss: 0.5795, Train Accuracy: 0.5313\n",
      "Epoch 9: Train Loss: 0.5793, Train Accuracy: 0.5432\n",
      "Epoch 10: Train Loss: 0.5772, Train Accuracy: 0.5465\n",
      "Epoch 11: Train Loss: 0.5781, Train Accuracy: 0.5356\n",
      "Epoch 12: Train Loss: 0.5782, Train Accuracy: 0.5247\n",
      "Epoch 13: Train Loss: 0.5792, Train Accuracy: 0.4900\n",
      "Epoch 14: Train Loss: 0.5779, Train Accuracy: 0.4924\n",
      "Epoch 15: Train Loss: 0.5786, Train Accuracy: 0.4587\n",
      "Epoch 16: Train Loss: 0.5783, Train Accuracy: 0.4739\n",
      "Epoch 17: Train Loss: 0.5768, Train Accuracy: 0.5005\n",
      "Epoch 18: Train Loss: 0.5797, Train Accuracy: 0.4616\n",
      "Epoch 19: Train Loss: 0.5775, Train Accuracy: 0.5123\n",
      "Epoch 20: Train Loss: 0.5777, Train Accuracy: 0.5066\n",
      "Test Accuracy: 0.5798, Test F1: 0.7341, Test Precision: 0.5798, Test Recall: 1.0000\n",
      "--------------------------------------------------\n",
      "  Fold 5:\n"
     ]
    },
    {
     "name": "stderr",
     "output_type": "stream",
     "text": [
      "/mnt/data/users/minjkim/softwares/conda_envs/flowgat/lib/python3.8/site-packages/torch/utils/checkpoint.py:1399: FutureWarning: `torch.cpu.amp.autocast(args...)` is deprecated. Please use `torch.amp.autocast('cpu', args...)` instead.\n",
      "  with device_autocast_ctx, torch.cpu.amp.autocast(**cpu_autocast_kwargs), recompute_context:  # type: ignore[attr-defined]\n"
     ]
    },
    {
     "name": "stdout",
     "output_type": "stream",
     "text": [
      "Epoch 1: Train Loss: 0.5801, Train Accuracy: 0.4789\n",
      "Epoch 2: Train Loss: 0.5782, Train Accuracy: 0.5505\n",
      "Epoch 3: Train Loss: 0.5770, Train Accuracy: 0.5430\n",
      "Epoch 4: Train Loss: 0.5784, Train Accuracy: 0.5107\n",
      "Epoch 5: Train Loss: 0.5792, Train Accuracy: 0.4775\n",
      "Epoch 6: Train Loss: 0.5776, Train Accuracy: 0.5078\n",
      "Epoch 7: Train Loss: 0.5785, Train Accuracy: 0.5244\n",
      "Epoch 8: Train Loss: 0.5763, Train Accuracy: 0.5458\n",
      "Epoch 9: Train Loss: 0.5760, Train Accuracy: 0.5425\n",
      "Epoch 10: Train Loss: 0.5772, Train Accuracy: 0.5240\n",
      "Epoch 11: Train Loss: 0.5778, Train Accuracy: 0.5178\n",
      "Epoch 12: Train Loss: 0.5777, Train Accuracy: 0.5202\n",
      "Epoch 13: Train Loss: 0.5772, Train Accuracy: 0.5396\n",
      "Epoch 14: Train Loss: 0.5785, Train Accuracy: 0.5221\n",
      "Epoch 15: Train Loss: 0.5779, Train Accuracy: 0.5297\n",
      "Epoch 16: Train Loss: 0.5782, Train Accuracy: 0.5396\n",
      "Epoch 17: Train Loss: 0.5766, Train Accuracy: 0.5349\n",
      "Epoch 18: Train Loss: 0.5767, Train Accuracy: 0.5150\n",
      "Epoch 19: Train Loss: 0.5766, Train Accuracy: 0.5107\n",
      "Epoch 20: Train Loss: 0.5764, Train Accuracy: 0.5192\n",
      "Test Accuracy: 0.5617, Test F1: 0.7193, Test Precision: 0.5617, Test Recall: 1.0000\n",
      "--------------------------------------------------\n",
      "Average Test Accuracy: 0.5456, Average Test F1: 0.5752\n",
      "Repeat 3/5\n",
      "  Fold 1:\n"
     ]
    },
    {
     "name": "stderr",
     "output_type": "stream",
     "text": [
      "/mnt/data/users/minjkim/softwares/conda_envs/flowgat/lib/python3.8/site-packages/torch/utils/checkpoint.py:1399: FutureWarning: `torch.cpu.amp.autocast(args...)` is deprecated. Please use `torch.amp.autocast('cpu', args...)` instead.\n",
      "  with device_autocast_ctx, torch.cpu.amp.autocast(**cpu_autocast_kwargs), recompute_context:  # type: ignore[attr-defined]\n"
     ]
    },
    {
     "name": "stdout",
     "output_type": "stream",
     "text": [
      "Epoch 1: Train Loss: 0.5842, Train Accuracy: 0.5313\n",
      "Epoch 2: Train Loss: 0.5813, Train Accuracy: 0.4649\n",
      "Epoch 3: Train Loss: 0.5808, Train Accuracy: 0.4744\n",
      "Epoch 4: Train Loss: 0.5794, Train Accuracy: 0.4834\n",
      "Epoch 5: Train Loss: 0.5809, Train Accuracy: 0.5270\n",
      "Epoch 6: Train Loss: 0.5797, Train Accuracy: 0.5247\n",
      "Epoch 7: Train Loss: 0.5792, Train Accuracy: 0.5190\n",
      "Epoch 8: Train Loss: 0.5782, Train Accuracy: 0.5266\n",
      "Epoch 9: Train Loss: 0.5770, Train Accuracy: 0.5313\n",
      "Epoch 10: Train Loss: 0.5786, Train Accuracy: 0.4991\n",
      "Epoch 11: Train Loss: 0.5783, Train Accuracy: 0.4957\n",
      "Epoch 12: Train Loss: 0.5795, Train Accuracy: 0.4635\n",
      "Epoch 13: Train Loss: 0.5785, Train Accuracy: 0.4725\n",
      "Epoch 14: Train Loss: 0.5780, Train Accuracy: 0.4858\n",
      "Epoch 15: Train Loss: 0.5779, Train Accuracy: 0.4881\n",
      "Epoch 16: Train Loss: 0.5778, Train Accuracy: 0.4820\n",
      "Epoch 17: Train Loss: 0.5776, Train Accuracy: 0.5081\n",
      "Epoch 18: Train Loss: 0.5778, Train Accuracy: 0.5052\n",
      "Epoch 19: Train Loss: 0.5782, Train Accuracy: 0.5019\n",
      "Epoch 20: Train Loss: 0.5778, Train Accuracy: 0.5313\n",
      "Test Accuracy: 0.5798, Test F1: 0.7341, Test Precision: 0.5798, Test Recall: 1.0000\n",
      "--------------------------------------------------\n",
      "  Fold 2:\n"
     ]
    },
    {
     "name": "stderr",
     "output_type": "stream",
     "text": [
      "/mnt/data/users/minjkim/softwares/conda_envs/flowgat/lib/python3.8/site-packages/torch/utils/checkpoint.py:1399: FutureWarning: `torch.cpu.amp.autocast(args...)` is deprecated. Please use `torch.amp.autocast('cpu', args...)` instead.\n",
      "  with device_autocast_ctx, torch.cpu.amp.autocast(**cpu_autocast_kwargs), recompute_context:  # type: ignore[attr-defined]\n"
     ]
    },
    {
     "name": "stdout",
     "output_type": "stream",
     "text": [
      "Epoch 1: Train Loss: 0.5949, Train Accuracy: 0.4518\n",
      "Epoch 2: Train Loss: 0.5867, Train Accuracy: 0.4817\n",
      "Epoch 3: Train Loss: 0.5842, Train Accuracy: 0.5230\n",
      "Epoch 4: Train Loss: 0.5844, Train Accuracy: 0.5363\n",
      "Epoch 5: Train Loss: 0.5793, Train Accuracy: 0.5240\n",
      "Epoch 6: Train Loss: 0.5818, Train Accuracy: 0.4941\n",
      "Epoch 7: Train Loss: 0.5828, Train Accuracy: 0.4893\n",
      "Epoch 8: Train Loss: 0.5791, Train Accuracy: 0.4874\n",
      "Epoch 9: Train Loss: 0.5778, Train Accuracy: 0.5107\n",
      "Epoch 10: Train Loss: 0.5793, Train Accuracy: 0.4974\n",
      "Epoch 11: Train Loss: 0.5790, Train Accuracy: 0.5150\n",
      "Epoch 12: Train Loss: 0.5806, Train Accuracy: 0.5007\n",
      "Epoch 13: Train Loss: 0.5775, Train Accuracy: 0.5368\n",
      "Epoch 14: Train Loss: 0.5804, Train Accuracy: 0.4836\n",
      "Epoch 15: Train Loss: 0.5791, Train Accuracy: 0.4760\n",
      "Epoch 16: Train Loss: 0.5786, Train Accuracy: 0.4789\n",
      "Epoch 17: Train Loss: 0.5775, Train Accuracy: 0.4907\n",
      "Epoch 18: Train Loss: 0.5793, Train Accuracy: 0.4580\n",
      "Epoch 19: Train Loss: 0.5780, Train Accuracy: 0.4798\n",
      "Epoch 20: Train Loss: 0.5779, Train Accuracy: 0.4879\n",
      "Test Accuracy: 0.5844, Test F1: 0.7377, Test Precision: 0.5844, Test Recall: 1.0000\n",
      "--------------------------------------------------\n",
      "  Fold 3:\n"
     ]
    },
    {
     "name": "stderr",
     "output_type": "stream",
     "text": [
      "/mnt/data/users/minjkim/softwares/conda_envs/flowgat/lib/python3.8/site-packages/torch/utils/checkpoint.py:1399: FutureWarning: `torch.cpu.amp.autocast(args...)` is deprecated. Please use `torch.amp.autocast('cpu', args...)` instead.\n",
      "  with device_autocast_ctx, torch.cpu.amp.autocast(**cpu_autocast_kwargs), recompute_context:  # type: ignore[attr-defined]\n"
     ]
    },
    {
     "name": "stdout",
     "output_type": "stream",
     "text": [
      "Epoch 1: Train Loss: 0.6094, Train Accuracy: 0.5876\n",
      "Epoch 2: Train Loss: 0.5843, Train Accuracy: 0.5809\n",
      "Epoch 3: Train Loss: 0.5824, Train Accuracy: 0.4461\n",
      "Epoch 4: Train Loss: 0.5814, Train Accuracy: 0.4414\n",
      "Epoch 5: Train Loss: 0.5812, Train Accuracy: 0.4480\n",
      "Epoch 6: Train Loss: 0.5786, Train Accuracy: 0.4490\n",
      "Epoch 7: Train Loss: 0.5785, Train Accuracy: 0.4983\n",
      "Epoch 8: Train Loss: 0.5799, Train Accuracy: 0.5045\n",
      "Epoch 9: Train Loss: 0.5810, Train Accuracy: 0.5192\n",
      "Epoch 10: Train Loss: 0.5772, Train Accuracy: 0.5534\n",
      "Epoch 11: Train Loss: 0.5789, Train Accuracy: 0.5581\n",
      "Epoch 12: Train Loss: 0.5776, Train Accuracy: 0.5586\n",
      "Epoch 13: Train Loss: 0.5781, Train Accuracy: 0.5406\n",
      "Epoch 14: Train Loss: 0.5761, Train Accuracy: 0.5543\n",
      "Epoch 15: Train Loss: 0.5793, Train Accuracy: 0.5069\n",
      "Epoch 16: Train Loss: 0.5771, Train Accuracy: 0.5192\n",
      "Epoch 17: Train Loss: 0.5782, Train Accuracy: 0.5036\n",
      "Epoch 18: Train Loss: 0.5767, Train Accuracy: 0.5145\n",
      "Epoch 19: Train Loss: 0.5778, Train Accuracy: 0.5093\n",
      "Epoch 20: Train Loss: 0.5777, Train Accuracy: 0.4808\n",
      "Test Accuracy: 0.5617, Test F1: 0.7193, Test Precision: 0.5617, Test Recall: 1.0000\n",
      "--------------------------------------------------\n",
      "  Fold 4:\n"
     ]
    },
    {
     "name": "stderr",
     "output_type": "stream",
     "text": [
      "/mnt/data/users/minjkim/softwares/conda_envs/flowgat/lib/python3.8/site-packages/torch/utils/checkpoint.py:1399: FutureWarning: `torch.cpu.amp.autocast(args...)` is deprecated. Please use `torch.amp.autocast('cpu', args...)` instead.\n",
      "  with device_autocast_ctx, torch.cpu.amp.autocast(**cpu_autocast_kwargs), recompute_context:  # type: ignore[attr-defined]\n"
     ]
    },
    {
     "name": "stdout",
     "output_type": "stream",
     "text": [
      "Epoch 1: Train Loss: 0.5948, Train Accuracy: 0.4286\n",
      "Epoch 2: Train Loss: 0.5895, Train Accuracy: 0.4248\n",
      "Epoch 3: Train Loss: 0.5835, Train Accuracy: 0.4903\n",
      "Epoch 4: Train Loss: 0.5822, Train Accuracy: 0.5230\n",
      "Epoch 5: Train Loss: 0.5862, Train Accuracy: 0.5230\n",
      "Epoch 6: Train Loss: 0.5839, Train Accuracy: 0.5420\n",
      "Epoch 7: Train Loss: 0.5794, Train Accuracy: 0.5420\n",
      "Epoch 8: Train Loss: 0.5792, Train Accuracy: 0.5240\n",
      "Epoch 9: Train Loss: 0.5796, Train Accuracy: 0.4926\n",
      "Epoch 10: Train Loss: 0.5795, Train Accuracy: 0.4732\n",
      "Epoch 11: Train Loss: 0.5789, Train Accuracy: 0.4760\n",
      "Epoch 12: Train Loss: 0.5794, Train Accuracy: 0.4665\n",
      "Epoch 13: Train Loss: 0.5798, Train Accuracy: 0.4637\n",
      "Epoch 14: Train Loss: 0.5795, Train Accuracy: 0.4922\n",
      "Epoch 15: Train Loss: 0.5789, Train Accuracy: 0.5045\n",
      "Epoch 16: Train Loss: 0.5795, Train Accuracy: 0.4969\n",
      "Epoch 17: Train Loss: 0.5796, Train Accuracy: 0.5050\n",
      "Epoch 18: Train Loss: 0.5795, Train Accuracy: 0.5221\n",
      "Epoch 19: Train Loss: 0.5798, Train Accuracy: 0.4950\n",
      "Epoch 20: Train Loss: 0.5788, Train Accuracy: 0.5116\n",
      "Test Accuracy: 0.4004, Test F1: 0.0000, Test Precision: 1.0000, Test Recall: 0.0000\n",
      "--------------------------------------------------\n",
      "  Fold 5:\n"
     ]
    },
    {
     "name": "stderr",
     "output_type": "stream",
     "text": [
      "/mnt/data/users/minjkim/softwares/conda_envs/flowgat/lib/python3.8/site-packages/torch/utils/checkpoint.py:1399: FutureWarning: `torch.cpu.amp.autocast(args...)` is deprecated. Please use `torch.amp.autocast('cpu', args...)` instead.\n",
      "  with device_autocast_ctx, torch.cpu.amp.autocast(**cpu_autocast_kwargs), recompute_context:  # type: ignore[attr-defined]\n"
     ]
    },
    {
     "name": "stdout",
     "output_type": "stream",
     "text": [
      "Epoch 1: Train Loss: 0.5917, Train Accuracy: 0.5553\n",
      "Epoch 2: Train Loss: 0.5868, Train Accuracy: 0.4665\n",
      "Epoch 3: Train Loss: 0.5864, Train Accuracy: 0.4523\n",
      "Epoch 4: Train Loss: 0.5821, Train Accuracy: 0.4528\n",
      "Epoch 5: Train Loss: 0.5801, Train Accuracy: 0.4841\n",
      "Epoch 6: Train Loss: 0.5801, Train Accuracy: 0.5121\n",
      "Epoch 7: Train Loss: 0.5778, Train Accuracy: 0.5719\n",
      "Epoch 8: Train Loss: 0.5794, Train Accuracy: 0.5653\n",
      "Epoch 9: Train Loss: 0.5801, Train Accuracy: 0.5178\n",
      "Epoch 10: Train Loss: 0.5788, Train Accuracy: 0.5154\n",
      "Epoch 11: Train Loss: 0.5803, Train Accuracy: 0.5069\n",
      "Epoch 12: Train Loss: 0.5785, Train Accuracy: 0.5292\n",
      "Epoch 13: Train Loss: 0.5794, Train Accuracy: 0.5055\n",
      "Epoch 14: Train Loss: 0.5783, Train Accuracy: 0.5093\n",
      "Epoch 15: Train Loss: 0.5793, Train Accuracy: 0.4903\n",
      "Epoch 16: Train Loss: 0.5787, Train Accuracy: 0.4979\n",
      "Epoch 17: Train Loss: 0.5791, Train Accuracy: 0.4941\n",
      "Epoch 18: Train Loss: 0.5797, Train Accuracy: 0.4846\n",
      "Epoch 19: Train Loss: 0.5790, Train Accuracy: 0.5040\n",
      "Epoch 20: Train Loss: 0.5782, Train Accuracy: 0.5074\n",
      "Test Accuracy: 0.4099, Test F1: 0.0000, Test Precision: 1.0000, Test Recall: 0.0000\n",
      "--------------------------------------------------\n",
      "Average Test Accuracy: 0.5072, Average Test F1: 0.4382\n",
      "Repeat 4/5\n",
      "  Fold 1:\n"
     ]
    },
    {
     "name": "stderr",
     "output_type": "stream",
     "text": [
      "/mnt/data/users/minjkim/softwares/conda_envs/flowgat/lib/python3.8/site-packages/torch/utils/checkpoint.py:1399: FutureWarning: `torch.cpu.amp.autocast(args...)` is deprecated. Please use `torch.amp.autocast('cpu', args...)` instead.\n",
      "  with device_autocast_ctx, torch.cpu.amp.autocast(**cpu_autocast_kwargs), recompute_context:  # type: ignore[attr-defined]\n"
     ]
    },
    {
     "name": "stdout",
     "output_type": "stream",
     "text": [
      "Epoch 1: Train Loss: 0.5844, Train Accuracy: 0.5121\n",
      "Epoch 2: Train Loss: 0.5813, Train Accuracy: 0.4570\n",
      "Epoch 3: Train Loss: 0.5768, Train Accuracy: 0.5430\n",
      "Epoch 4: Train Loss: 0.5811, Train Accuracy: 0.5501\n",
      "Epoch 5: Train Loss: 0.5791, Train Accuracy: 0.5401\n",
      "Epoch 6: Train Loss: 0.5778, Train Accuracy: 0.5168\n",
      "Epoch 7: Train Loss: 0.5796, Train Accuracy: 0.4727\n",
      "Epoch 8: Train Loss: 0.5783, Train Accuracy: 0.4931\n",
      "Epoch 9: Train Loss: 0.5792, Train Accuracy: 0.5150\n",
      "Epoch 10: Train Loss: 0.5781, Train Accuracy: 0.5316\n",
      "Epoch 11: Train Loss: 0.5773, Train Accuracy: 0.5406\n",
      "Epoch 12: Train Loss: 0.5770, Train Accuracy: 0.5382\n",
      "Epoch 13: Train Loss: 0.5778, Train Accuracy: 0.5097\n",
      "Epoch 14: Train Loss: 0.5764, Train Accuracy: 0.5249\n",
      "Epoch 15: Train Loss: 0.5761, Train Accuracy: 0.5145\n",
      "Epoch 16: Train Loss: 0.5768, Train Accuracy: 0.5344\n",
      "Epoch 17: Train Loss: 0.5776, Train Accuracy: 0.5292\n",
      "Epoch 18: Train Loss: 0.5776, Train Accuracy: 0.5278\n",
      "Epoch 19: Train Loss: 0.5771, Train Accuracy: 0.5363\n",
      "Epoch 20: Train Loss: 0.5778, Train Accuracy: 0.5244\n",
      "Test Accuracy: 0.5617, Test F1: 0.7193, Test Precision: 0.5617, Test Recall: 1.0000\n",
      "--------------------------------------------------\n",
      "  Fold 2:\n"
     ]
    },
    {
     "name": "stderr",
     "output_type": "stream",
     "text": [
      "/mnt/data/users/minjkim/softwares/conda_envs/flowgat/lib/python3.8/site-packages/torch/utils/checkpoint.py:1399: FutureWarning: `torch.cpu.amp.autocast(args...)` is deprecated. Please use `torch.amp.autocast('cpu', args...)` instead.\n",
      "  with device_autocast_ctx, torch.cpu.amp.autocast(**cpu_autocast_kwargs), recompute_context:  # type: ignore[attr-defined]\n"
     ]
    },
    {
     "name": "stdout",
     "output_type": "stream",
     "text": [
      "Epoch 1: Train Loss: 0.5955, Train Accuracy: 0.4542\n",
      "Epoch 2: Train Loss: 0.5910, Train Accuracy: 0.4784\n",
      "Epoch 3: Train Loss: 0.5846, Train Accuracy: 0.5301\n",
      "Epoch 4: Train Loss: 0.5889, Train Accuracy: 0.5135\n",
      "Epoch 5: Train Loss: 0.5776, Train Accuracy: 0.5482\n",
      "Epoch 6: Train Loss: 0.5838, Train Accuracy: 0.4884\n",
      "Epoch 7: Train Loss: 0.5823, Train Accuracy: 0.4827\n",
      "Epoch 8: Train Loss: 0.5812, Train Accuracy: 0.4879\n",
      "Epoch 9: Train Loss: 0.5815, Train Accuracy: 0.4689\n",
      "Epoch 10: Train Loss: 0.5812, Train Accuracy: 0.4689\n",
      "Epoch 11: Train Loss: 0.5798, Train Accuracy: 0.4855\n",
      "Epoch 12: Train Loss: 0.5795, Train Accuracy: 0.4874\n",
      "Epoch 13: Train Loss: 0.5784, Train Accuracy: 0.5183\n",
      "Epoch 14: Train Loss: 0.5804, Train Accuracy: 0.5140\n",
      "Epoch 15: Train Loss: 0.5807, Train Accuracy: 0.5055\n",
      "Epoch 16: Train Loss: 0.5816, Train Accuracy: 0.4941\n",
      "Epoch 17: Train Loss: 0.5808, Train Accuracy: 0.4713\n",
      "Epoch 18: Train Loss: 0.5805, Train Accuracy: 0.4533\n",
      "Epoch 19: Train Loss: 0.5783, Train Accuracy: 0.4537\n",
      "Epoch 20: Train Loss: 0.5788, Train Accuracy: 0.4447\n",
      "Test Accuracy: 0.4004, Test F1: 0.0000, Test Precision: 1.0000, Test Recall: 0.0000\n",
      "--------------------------------------------------\n",
      "  Fold 3:\n"
     ]
    },
    {
     "name": "stderr",
     "output_type": "stream",
     "text": [
      "/mnt/data/users/minjkim/softwares/conda_envs/flowgat/lib/python3.8/site-packages/torch/utils/checkpoint.py:1399: FutureWarning: `torch.cpu.amp.autocast(args...)` is deprecated. Please use `torch.amp.autocast('cpu', args...)` instead.\n",
      "  with device_autocast_ctx, torch.cpu.amp.autocast(**cpu_autocast_kwargs), recompute_context:  # type: ignore[attr-defined]\n"
     ]
    },
    {
     "name": "stdout",
     "output_type": "stream",
     "text": [
      "Epoch 1: Train Loss: 0.5851, Train Accuracy: 0.5055\n",
      "Epoch 2: Train Loss: 0.5877, Train Accuracy: 0.4428\n",
      "Epoch 3: Train Loss: 0.5848, Train Accuracy: 0.5425\n",
      "Epoch 4: Train Loss: 0.5809, Train Accuracy: 0.5467\n",
      "Epoch 5: Train Loss: 0.5792, Train Accuracy: 0.5064\n",
      "Epoch 6: Train Loss: 0.5777, Train Accuracy: 0.4955\n",
      "Epoch 7: Train Loss: 0.5814, Train Accuracy: 0.4594\n",
      "Epoch 8: Train Loss: 0.5800, Train Accuracy: 0.4680\n",
      "Epoch 9: Train Loss: 0.5780, Train Accuracy: 0.5097\n",
      "Epoch 10: Train Loss: 0.5785, Train Accuracy: 0.5040\n",
      "Epoch 11: Train Loss: 0.5783, Train Accuracy: 0.5316\n",
      "Epoch 12: Train Loss: 0.5795, Train Accuracy: 0.5335\n",
      "Epoch 13: Train Loss: 0.5778, Train Accuracy: 0.5406\n",
      "Epoch 14: Train Loss: 0.5794, Train Accuracy: 0.5064\n",
      "Epoch 15: Train Loss: 0.5782, Train Accuracy: 0.5069\n",
      "Epoch 16: Train Loss: 0.5788, Train Accuracy: 0.4827\n",
      "Epoch 17: Train Loss: 0.5785, Train Accuracy: 0.4850\n",
      "Epoch 18: Train Loss: 0.5779, Train Accuracy: 0.5036\n",
      "Epoch 19: Train Loss: 0.5786, Train Accuracy: 0.4746\n",
      "Epoch 20: Train Loss: 0.5798, Train Accuracy: 0.4623\n",
      "Test Accuracy: 0.4156, Test F1: 0.0000, Test Precision: 1.0000, Test Recall: 0.0000\n",
      "--------------------------------------------------\n",
      "  Fold 4:\n"
     ]
    },
    {
     "name": "stderr",
     "output_type": "stream",
     "text": [
      "/mnt/data/users/minjkim/softwares/conda_envs/flowgat/lib/python3.8/site-packages/torch/utils/checkpoint.py:1399: FutureWarning: `torch.cpu.amp.autocast(args...)` is deprecated. Please use `torch.amp.autocast('cpu', args...)` instead.\n",
      "  with device_autocast_ctx, torch.cpu.amp.autocast(**cpu_autocast_kwargs), recompute_context:  # type: ignore[attr-defined]\n"
     ]
    },
    {
     "name": "stdout",
     "output_type": "stream",
     "text": [
      "Epoch 1: Train Loss: 0.5886, Train Accuracy: 0.4341\n",
      "Epoch 2: Train Loss: 0.5827, Train Accuracy: 0.5000\n",
      "Epoch 3: Train Loss: 0.5810, Train Accuracy: 0.5427\n",
      "Epoch 4: Train Loss: 0.5813, Train Accuracy: 0.5114\n",
      "Epoch 5: Train Loss: 0.5815, Train Accuracy: 0.4602\n",
      "Epoch 6: Train Loss: 0.5827, Train Accuracy: 0.4492\n",
      "Epoch 7: Train Loss: 0.5821, Train Accuracy: 0.4934\n",
      "Epoch 8: Train Loss: 0.5791, Train Accuracy: 0.5114\n",
      "Epoch 9: Train Loss: 0.5800, Train Accuracy: 0.5062\n",
      "Epoch 10: Train Loss: 0.5789, Train Accuracy: 0.5194\n",
      "Epoch 11: Train Loss: 0.5799, Train Accuracy: 0.4915\n",
      "Epoch 12: Train Loss: 0.5784, Train Accuracy: 0.4943\n",
      "Epoch 13: Train Loss: 0.5787, Train Accuracy: 0.4753\n",
      "Epoch 14: Train Loss: 0.5789, Train Accuracy: 0.4929\n",
      "Epoch 15: Train Loss: 0.5781, Train Accuracy: 0.5370\n",
      "Epoch 16: Train Loss: 0.5784, Train Accuracy: 0.5370\n",
      "Epoch 17: Train Loss: 0.5780, Train Accuracy: 0.5375\n",
      "Epoch 18: Train Loss: 0.5777, Train Accuracy: 0.5308\n",
      "Epoch 19: Train Loss: 0.5777, Train Accuracy: 0.5033\n",
      "Epoch 20: Train Loss: 0.5782, Train Accuracy: 0.4886\n",
      "Test Accuracy: 0.5798, Test F1: 0.7341, Test Precision: 0.5798, Test Recall: 1.0000\n",
      "--------------------------------------------------\n",
      "  Fold 5:\n"
     ]
    },
    {
     "name": "stderr",
     "output_type": "stream",
     "text": [
      "/mnt/data/users/minjkim/softwares/conda_envs/flowgat/lib/python3.8/site-packages/torch/utils/checkpoint.py:1399: FutureWarning: `torch.cpu.amp.autocast(args...)` is deprecated. Please use `torch.amp.autocast('cpu', args...)` instead.\n",
      "  with device_autocast_ctx, torch.cpu.amp.autocast(**cpu_autocast_kwargs), recompute_context:  # type: ignore[attr-defined]\n"
     ]
    },
    {
     "name": "stdout",
     "output_type": "stream",
     "text": [
      "Epoch 1: Train Loss: 0.6070, Train Accuracy: 0.5795\n",
      "Epoch 2: Train Loss: 0.5848, Train Accuracy: 0.5643\n",
      "Epoch 3: Train Loss: 0.5785, Train Accuracy: 0.4585\n",
      "Epoch 4: Train Loss: 0.5826, Train Accuracy: 0.4457\n",
      "Epoch 5: Train Loss: 0.5805, Train Accuracy: 0.4741\n",
      "Epoch 6: Train Loss: 0.5801, Train Accuracy: 0.4931\n",
      "Epoch 7: Train Loss: 0.5810, Train Accuracy: 0.5297\n",
      "Epoch 8: Train Loss: 0.5801, Train Accuracy: 0.5311\n",
      "Epoch 9: Train Loss: 0.5795, Train Accuracy: 0.5306\n",
      "Epoch 10: Train Loss: 0.5800, Train Accuracy: 0.5102\n",
      "Epoch 11: Train Loss: 0.5807, Train Accuracy: 0.4637\n",
      "Epoch 12: Train Loss: 0.5799, Train Accuracy: 0.4613\n",
      "Epoch 13: Train Loss: 0.5797, Train Accuracy: 0.4314\n",
      "Epoch 14: Train Loss: 0.5803, Train Accuracy: 0.4305\n",
      "Epoch 15: Train Loss: 0.5789, Train Accuracy: 0.4328\n",
      "Epoch 16: Train Loss: 0.5784, Train Accuracy: 0.4428\n",
      "Epoch 17: Train Loss: 0.5783, Train Accuracy: 0.4533\n",
      "Epoch 18: Train Loss: 0.5786, Train Accuracy: 0.4485\n",
      "Epoch 19: Train Loss: 0.5784, Train Accuracy: 0.4675\n",
      "Epoch 20: Train Loss: 0.5785, Train Accuracy: 0.4803\n",
      "Test Accuracy: 0.4516, Test F1: 0.3648, Test Precision: 0.5764, Test Recall: 0.2669\n",
      "--------------------------------------------------\n",
      "Average Test Accuracy: 0.4818, Average Test F1: 0.3636\n",
      "Repeat 5/5\n",
      "  Fold 1:\n"
     ]
    },
    {
     "name": "stderr",
     "output_type": "stream",
     "text": [
      "/mnt/data/users/minjkim/softwares/conda_envs/flowgat/lib/python3.8/site-packages/torch/utils/checkpoint.py:1399: FutureWarning: `torch.cpu.amp.autocast(args...)` is deprecated. Please use `torch.amp.autocast('cpu', args...)` instead.\n",
      "  with device_autocast_ctx, torch.cpu.amp.autocast(**cpu_autocast_kwargs), recompute_context:  # type: ignore[attr-defined]\n"
     ]
    },
    {
     "name": "stdout",
     "output_type": "stream",
     "text": [
      "Epoch 1: Train Loss: 0.5998, Train Accuracy: 0.5344\n",
      "Epoch 2: Train Loss: 0.5865, Train Accuracy: 0.4832\n",
      "Epoch 3: Train Loss: 0.5844, Train Accuracy: 0.4808\n",
      "Epoch 4: Train Loss: 0.5812, Train Accuracy: 0.5074\n",
      "Epoch 5: Train Loss: 0.5834, Train Accuracy: 0.5097\n",
      "Epoch 6: Train Loss: 0.5832, Train Accuracy: 0.5401\n",
      "Epoch 7: Train Loss: 0.5796, Train Accuracy: 0.5297\n",
      "Epoch 8: Train Loss: 0.5795, Train Accuracy: 0.5083\n",
      "Epoch 9: Train Loss: 0.5825, Train Accuracy: 0.4566\n",
      "Epoch 10: Train Loss: 0.5798, Train Accuracy: 0.4917\n",
      "Epoch 11: Train Loss: 0.5813, Train Accuracy: 0.4504\n",
      "Epoch 12: Train Loss: 0.5814, Train Accuracy: 0.4903\n",
      "Epoch 13: Train Loss: 0.5787, Train Accuracy: 0.5297\n",
      "Epoch 14: Train Loss: 0.5786, Train Accuracy: 0.5216\n",
      "Epoch 15: Train Loss: 0.5792, Train Accuracy: 0.5159\n",
      "Epoch 16: Train Loss: 0.5772, Train Accuracy: 0.5026\n",
      "Epoch 17: Train Loss: 0.5790, Train Accuracy: 0.4789\n",
      "Epoch 18: Train Loss: 0.5792, Train Accuracy: 0.4722\n",
      "Epoch 19: Train Loss: 0.5801, Train Accuracy: 0.4670\n",
      "Epoch 20: Train Loss: 0.5785, Train Accuracy: 0.4846\n",
      "Test Accuracy: 0.5901, Test F1: 0.7422, Test Precision: 0.5901, Test Recall: 1.0000\n",
      "--------------------------------------------------\n",
      "  Fold 2:\n"
     ]
    },
    {
     "name": "stderr",
     "output_type": "stream",
     "text": [
      "/mnt/data/users/minjkim/softwares/conda_envs/flowgat/lib/python3.8/site-packages/torch/utils/checkpoint.py:1399: FutureWarning: `torch.cpu.amp.autocast(args...)` is deprecated. Please use `torch.amp.autocast('cpu', args...)` instead.\n",
      "  with device_autocast_ctx, torch.cpu.amp.autocast(**cpu_autocast_kwargs), recompute_context:  # type: ignore[attr-defined]\n"
     ]
    },
    {
     "name": "stdout",
     "output_type": "stream",
     "text": [
      "Epoch 1: Train Loss: 0.6424, Train Accuracy: 0.4215\n",
      "Epoch 2: Train Loss: 0.6137, Train Accuracy: 0.4205\n",
      "Epoch 3: Train Loss: 0.5878, Train Accuracy: 0.5026\n",
      "Epoch 4: Train Loss: 0.5894, Train Accuracy: 0.5349\n",
      "Epoch 5: Train Loss: 0.5868, Train Accuracy: 0.5420\n",
      "Epoch 6: Train Loss: 0.5855, Train Accuracy: 0.5430\n",
      "Epoch 7: Train Loss: 0.5825, Train Accuracy: 0.5268\n",
      "Epoch 8: Train Loss: 0.5841, Train Accuracy: 0.5159\n",
      "Epoch 9: Train Loss: 0.5851, Train Accuracy: 0.4703\n",
      "Epoch 10: Train Loss: 0.5827, Train Accuracy: 0.4737\n",
      "Epoch 11: Train Loss: 0.5836, Train Accuracy: 0.4618\n",
      "Epoch 12: Train Loss: 0.5790, Train Accuracy: 0.4974\n",
      "Epoch 13: Train Loss: 0.5810, Train Accuracy: 0.4865\n",
      "Epoch 14: Train Loss: 0.5794, Train Accuracy: 0.5202\n",
      "Epoch 15: Train Loss: 0.5819, Train Accuracy: 0.5173\n",
      "Epoch 16: Train Loss: 0.5807, Train Accuracy: 0.5116\n",
      "Epoch 17: Train Loss: 0.5815, Train Accuracy: 0.5145\n",
      "Epoch 18: Train Loss: 0.5774, Train Accuracy: 0.5387\n",
      "Epoch 19: Train Loss: 0.5785, Train Accuracy: 0.5083\n",
      "Epoch 20: Train Loss: 0.5793, Train Accuracy: 0.4988\n",
      "Test Accuracy: 0.5617, Test F1: 0.7193, Test Precision: 0.5617, Test Recall: 1.0000\n",
      "--------------------------------------------------\n",
      "  Fold 3:\n"
     ]
    },
    {
     "name": "stderr",
     "output_type": "stream",
     "text": [
      "/mnt/data/users/minjkim/softwares/conda_envs/flowgat/lib/python3.8/site-packages/torch/utils/checkpoint.py:1399: FutureWarning: `torch.cpu.amp.autocast(args...)` is deprecated. Please use `torch.amp.autocast('cpu', args...)` instead.\n",
      "  with device_autocast_ctx, torch.cpu.amp.autocast(**cpu_autocast_kwargs), recompute_context:  # type: ignore[attr-defined]\n"
     ]
    },
    {
     "name": "stdout",
     "output_type": "stream",
     "text": [
      "Epoch 1: Train Loss: 0.5865, Train Accuracy: 0.4931\n",
      "Epoch 2: Train Loss: 0.5829, Train Accuracy: 0.5078\n",
      "Epoch 3: Train Loss: 0.5819, Train Accuracy: 0.4713\n",
      "Epoch 4: Train Loss: 0.5819, Train Accuracy: 0.4675\n",
      "Epoch 5: Train Loss: 0.5813, Train Accuracy: 0.4756\n",
      "Epoch 6: Train Loss: 0.5798, Train Accuracy: 0.4907\n",
      "Epoch 7: Train Loss: 0.5788, Train Accuracy: 0.4869\n",
      "Epoch 8: Train Loss: 0.5779, Train Accuracy: 0.4865\n",
      "Epoch 9: Train Loss: 0.5793, Train Accuracy: 0.4741\n",
      "Epoch 10: Train Loss: 0.5784, Train Accuracy: 0.4836\n",
      "Epoch 11: Train Loss: 0.5789, Train Accuracy: 0.4732\n",
      "Epoch 12: Train Loss: 0.5787, Train Accuracy: 0.5017\n",
      "Epoch 13: Train Loss: 0.5793, Train Accuracy: 0.4874\n",
      "Epoch 14: Train Loss: 0.5789, Train Accuracy: 0.4832\n",
      "Epoch 15: Train Loss: 0.5791, Train Accuracy: 0.4855\n",
      "Epoch 16: Train Loss: 0.5790, Train Accuracy: 0.4751\n",
      "Epoch 17: Train Loss: 0.5790, Train Accuracy: 0.4504\n",
      "Epoch 18: Train Loss: 0.5794, Train Accuracy: 0.4438\n",
      "Epoch 19: Train Loss: 0.5790, Train Accuracy: 0.4457\n",
      "Epoch 20: Train Loss: 0.5785, Train Accuracy: 0.4585\n",
      "Test Accuracy: 0.4004, Test F1: 0.0000, Test Precision: 1.0000, Test Recall: 0.0000\n",
      "--------------------------------------------------\n",
      "  Fold 4:\n"
     ]
    },
    {
     "name": "stderr",
     "output_type": "stream",
     "text": [
      "/mnt/data/users/minjkim/softwares/conda_envs/flowgat/lib/python3.8/site-packages/torch/utils/checkpoint.py:1399: FutureWarning: `torch.cpu.amp.autocast(args...)` is deprecated. Please use `torch.amp.autocast('cpu', args...)` instead.\n",
      "  with device_autocast_ctx, torch.cpu.amp.autocast(**cpu_autocast_kwargs), recompute_context:  # type: ignore[attr-defined]\n"
     ]
    },
    {
     "name": "stdout",
     "output_type": "stream",
     "text": [
      "Epoch 1: Train Loss: 0.6067, Train Accuracy: 0.4419\n",
      "Epoch 2: Train Loss: 0.5887, Train Accuracy: 0.4813\n",
      "Epoch 3: Train Loss: 0.5919, Train Accuracy: 0.5520\n",
      "Epoch 4: Train Loss: 0.5954, Train Accuracy: 0.5339\n",
      "Epoch 5: Train Loss: 0.5897, Train Accuracy: 0.5287\n",
      "Epoch 6: Train Loss: 0.5846, Train Accuracy: 0.5301\n",
      "Epoch 7: Train Loss: 0.5868, Train Accuracy: 0.4808\n",
      "Epoch 8: Train Loss: 0.5815, Train Accuracy: 0.4926\n",
      "Epoch 9: Train Loss: 0.5850, Train Accuracy: 0.4575\n",
      "Epoch 10: Train Loss: 0.5831, Train Accuracy: 0.4537\n",
      "Epoch 11: Train Loss: 0.5836, Train Accuracy: 0.4604\n",
      "Epoch 12: Train Loss: 0.5823, Train Accuracy: 0.4599\n",
      "Epoch 13: Train Loss: 0.5814, Train Accuracy: 0.4850\n",
      "Epoch 14: Train Loss: 0.5811, Train Accuracy: 0.4879\n",
      "Epoch 15: Train Loss: 0.5800, Train Accuracy: 0.5045\n",
      "Epoch 16: Train Loss: 0.5787, Train Accuracy: 0.5335\n",
      "Epoch 17: Train Loss: 0.5790, Train Accuracy: 0.5420\n",
      "Epoch 18: Train Loss: 0.5803, Train Accuracy: 0.5292\n",
      "Epoch 19: Train Loss: 0.5804, Train Accuracy: 0.5078\n",
      "Epoch 20: Train Loss: 0.5793, Train Accuracy: 0.4969\n",
      "Test Accuracy: 0.4156, Test F1: 0.0000, Test Precision: 1.0000, Test Recall: 0.0000\n",
      "--------------------------------------------------\n",
      "  Fold 5:\n"
     ]
    },
    {
     "name": "stderr",
     "output_type": "stream",
     "text": [
      "/mnt/data/users/minjkim/softwares/conda_envs/flowgat/lib/python3.8/site-packages/torch/utils/checkpoint.py:1399: FutureWarning: `torch.cpu.amp.autocast(args...)` is deprecated. Please use `torch.amp.autocast('cpu', args...)` instead.\n",
      "  with device_autocast_ctx, torch.cpu.amp.autocast(**cpu_autocast_kwargs), recompute_context:  # type: ignore[attr-defined]\n"
     ]
    },
    {
     "name": "stdout",
     "output_type": "stream",
     "text": [
      "Epoch 1: Train Loss: 0.5991, Train Accuracy: 0.5721\n",
      "Epoch 2: Train Loss: 0.5846, Train Accuracy: 0.5313\n",
      "Epoch 3: Train Loss: 0.5892, Train Accuracy: 0.4431\n",
      "Epoch 4: Train Loss: 0.5910, Train Accuracy: 0.4231\n",
      "Epoch 5: Train Loss: 0.5858, Train Accuracy: 0.4464\n",
      "Epoch 6: Train Loss: 0.5818, Train Accuracy: 0.4692\n",
      "Epoch 7: Train Loss: 0.5800, Train Accuracy: 0.5270\n",
      "Epoch 8: Train Loss: 0.5811, Train Accuracy: 0.5546\n",
      "Epoch 9: Train Loss: 0.5815, Train Accuracy: 0.5446\n",
      "Epoch 10: Train Loss: 0.5816, Train Accuracy: 0.5361\n",
      "Epoch 11: Train Loss: 0.5795, Train Accuracy: 0.5038\n",
      "Epoch 12: Train Loss: 0.5792, Train Accuracy: 0.5114\n",
      "Epoch 13: Train Loss: 0.5798, Train Accuracy: 0.4573\n",
      "Epoch 14: Train Loss: 0.5800, Train Accuracy: 0.4360\n",
      "Epoch 15: Train Loss: 0.5782, Train Accuracy: 0.4625\n",
      "Epoch 16: Train Loss: 0.5790, Train Accuracy: 0.4426\n",
      "Epoch 17: Train Loss: 0.5788, Train Accuracy: 0.4549\n",
      "Epoch 18: Train Loss: 0.5781, Train Accuracy: 0.4881\n",
      "Epoch 19: Train Loss: 0.5780, Train Accuracy: 0.5152\n",
      "Epoch 20: Train Loss: 0.5777, Train Accuracy: 0.4976\n",
      "Test Accuracy: 0.5798, Test F1: 0.7341, Test Precision: 0.5798, Test Recall: 1.0000\n",
      "--------------------------------------------------\n",
      "Average Test Accuracy: 0.5095, Average Test F1: 0.4391\n",
      "Saving the best model checkpoint as a pickle file.\n",
      "Final Test Results:\n",
      "Final Accuracy: 0.5798, Final F1: 0.7341, Final Precision: 0.5798, Final Recall: 1.0000\n"
     ]
    }
   ],
   "source": [
    "%%bash\n",
    "cd model\n",
    "python3 AsperGAT.py"
   ]
  },
  {
   "cell_type": "markdown",
   "metadata": {},
   "source": []
  }
 ],
 "metadata": {
  "kernelspec": {
   "display_name": "flowgat",
   "language": "python",
   "name": "python3"
  },
  "language_info": {
   "codemirror_mode": {
    "name": "ipython",
    "version": 3
   },
   "file_extension": ".py",
   "mimetype": "text/x-python",
   "name": "python",
   "nbconvert_exporter": "python",
   "pygments_lexer": "ipython3",
   "version": "3.8.20"
  }
 },
 "nbformat": 4,
 "nbformat_minor": 2
}
